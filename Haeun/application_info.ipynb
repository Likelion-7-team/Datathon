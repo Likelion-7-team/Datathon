{
 "cells": [
  {
   "cell_type": "code",
   "execution_count": 1,
   "id": "472f9b12",
   "metadata": {},
   "outputs": [],
   "source": [
    "import pandas as pd"
   ]
  },
  {
   "cell_type": "code",
   "execution_count": 2,
   "id": "6bb97c8a",
   "metadata": {},
   "outputs": [],
   "source": [
    "prev_app = pd.read_csv('./data/previous_application.csv', encoding='utf-8-sig')"
   ]
  },
  {
   "cell_type": "code",
   "execution_count": null,
   "id": "180832f5",
   "metadata": {},
   "outputs": [],
   "source": [
    "prev_app"
   ]
  },
  {
   "cell_type": "code",
   "execution_count": 10,
   "id": "d51ad9eb",
   "metadata": {},
   "outputs": [],
   "source": [
    "# 2. CSV 파일들 로드\n",
    "# app_test = pd.read_csv('./data/application_test.csv', encoding='utf-8-sig')\n",
    "app_train = pd.read_csv('./data/application_train.csv', encoding='utf-8-sig')\n",
    "bureau = pd.read_csv('./data/bureau.csv', encoding='utf-8-sig')\n",
    "balance = pd.read_csv('./data/bureau_balance.csv', encoding='utf-8-sig')\n",
    "credit_card = pd.read_csv('./data/credit_card_balance.csv', encoding='utf-8-sig')\n",
    "installments = pd.read_csv('./data/installments_payments.csv', encoding='utf-8-sig')\n",
    "pos_cash = pd.read_csv('./data/POS_CASH_balance.csv', encoding='utf-8-sig')\n",
    "prev_app = pd.read_csv('./data/previous_application.csv', encoding='utf-8-sig')"
   ]
  },
  {
   "cell_type": "code",
   "execution_count": 5,
   "id": "e116c2fa",
   "metadata": {},
   "outputs": [
    {
     "name": "stdout",
     "output_type": "stream",
     "text": [
      "(307511, 122)\n",
      "(1716428, 17)\n",
      "(27299925, 3)\n",
      "(3840312, 23)\n",
      "(13605401, 8)\n",
      "(10001358, 8)\n",
      "(1670214, 37)\n"
     ]
    }
   ],
   "source": [
    "# print(df1.shape)\n",
    "print(app_train.shape)\n",
    "print(bureau.shape)\n",
    "print(bureau_balance.shape)\n",
    "print(credit_card.shape)\n",
    "print(installments.shape)\n",
    "print(pos_cash.shape)\n",
    "print(prev_app.shape)"
   ]
  },
  {
   "cell_type": "markdown",
   "id": "ed152f07",
   "metadata": {},
   "source": [
    "#### applicaion_train vs bureau 고객"
   ]
  },
  {
   "cell_type": "code",
   "execution_count": 6,
   "id": "7dd8b231",
   "metadata": {},
   "outputs": [
    {
     "data": {
      "text/plain": [
       "307511"
      ]
     },
     "execution_count": 6,
     "metadata": {},
     "output_type": "execute_result"
    }
   ],
   "source": [
    "app_train['SK_ID_CURR'].nunique()"
   ]
  },
  {
   "cell_type": "code",
   "execution_count": 19,
   "id": "cdcee04c",
   "metadata": {},
   "outputs": [
    {
     "data": {
      "text/plain": [
       "338857"
      ]
     },
     "execution_count": 19,
     "metadata": {},
     "output_type": "execute_result"
    }
   ],
   "source": [
    "prev_app['SK_ID_CURR'].nunique()"
   ]
  },
  {
   "cell_type": "code",
   "execution_count": 7,
   "id": "1420bd76",
   "metadata": {},
   "outputs": [
    {
     "data": {
      "text/plain": [
       "305811"
      ]
     },
     "execution_count": 7,
     "metadata": {},
     "output_type": "execute_result"
    }
   ],
   "source": [
    "bureau['SK_ID_CURR'].nunique()"
   ]
  },
  {
   "cell_type": "code",
   "execution_count": null,
   "id": "292cd725",
   "metadata": {},
   "outputs": [
    {
     "data": {
      "text/plain": [
       "263491"
      ]
     },
     "execution_count": 13,
     "metadata": {},
     "output_type": "execute_result"
    }
   ],
   "source": [
    "# 교집합 고객 수\n",
    "len(set(app_train['SK_ID_CURR']) & set(bureau['SK_ID_CURR']))"
   ]
  },
  {
   "cell_type": "code",
   "execution_count": 11,
   "id": "9715fb9e",
   "metadata": {},
   "outputs": [
    {
     "data": {
      "text/plain": [
       "44020"
      ]
     },
     "execution_count": 11,
     "metadata": {},
     "output_type": "execute_result"
    }
   ],
   "source": [
    "# bureau 정보가 없는 고객\n",
    "len(set(app_train['SK_ID_CURR']) - set(bureau['SK_ID_CURR']))"
   ]
  },
  {
   "cell_type": "code",
   "execution_count": 12,
   "id": "75ffeee5",
   "metadata": {},
   "outputs": [
    {
     "data": {
      "text/plain": [
       "42320"
      ]
     },
     "execution_count": 12,
     "metadata": {},
     "output_type": "execute_result"
    }
   ],
   "source": [
    "# application_train에는 없지만 bureau에만 있는 고객 (테스트셋 등 포함 가능성 있음)\n",
    "len(set(bureau['SK_ID_CURR']) - set(app_train['SK_ID_CURR']))"
   ]
  },
  {
   "cell_type": "code",
   "execution_count": 17,
   "id": "8744cf28",
   "metadata": {},
   "outputs": [
    {
     "name": "stdout",
     "output_type": "stream",
     "text": [
      "bureau\n",
      "  ├ app_train에만 있는 고객 수: 44020\n",
      "  ├ bureau에만 있는 고객 수: 42320\n",
      "  └ 둘 다에 있는 고객 수: 263491\n",
      "\n",
      "credit_card\n",
      "  ├ app_train에만 있는 고객 수: 220606\n",
      "  ├ credit_card에만 있는 고객 수: 16653\n",
      "  └ 둘 다에 있는 고객 수: 86905\n",
      "\n",
      "installments\n",
      "  ├ app_train에만 있는 고객 수: 15868\n",
      "  ├ installments에만 있는 고객 수: 47944\n",
      "  └ 둘 다에 있는 고객 수: 291643\n",
      "\n",
      "pos_cash\n",
      "  ├ app_train에만 있는 고객 수: 18067\n",
      "  ├ pos_cash에만 있는 고객 수: 47808\n",
      "  └ 둘 다에 있는 고객 수: 289444\n",
      "\n",
      "prev_app\n",
      "  ├ app_train에만 있는 고객 수: 16454\n",
      "  ├ prev_app에만 있는 고객 수: 47800\n",
      "  └ 둘 다에 있는 고객 수: 291057\n",
      "\n"
     ]
    }
   ],
   "source": [
    "# 기준 테이블\n",
    "base_ids = set(app_train['SK_ID_CURR'])\n",
    "\n",
    "# 비교 대상 테이블 dict 구성\n",
    "tables = {\n",
    "    'bureau': bureau,\n",
    "    'credit_card': credit_card,\n",
    "    'installments': installments,\n",
    "    'pos_cash': pos_cash,\n",
    "    'prev_app': prev_app,\n",
    "}\n",
    "\n",
    "# 루프 돌면서 교집합, 차집합 개수 출력\n",
    "for name, df in tables.items():\n",
    "    target_ids = set(df['SK_ID_CURR'])\n",
    "    \n",
    "    only_in_base = len(base_ids - target_ids)\n",
    "    only_in_target = len(target_ids - base_ids)\n",
    "    intersection = len(base_ids & target_ids)\n",
    "    \n",
    "    print(f\"{name}\")\n",
    "    print(f\"  ├ app_train에만 있는 고객 수: {only_in_base}\")\n",
    "    print(f\"  ├ {name}에만 있는 고객 수: {only_in_target}\")\n",
    "    print(f\"  └ 둘 다에 있는 고객 수: {intersection}\\n\")\n"
   ]
  },
  {
   "cell_type": "code",
   "execution_count": null,
   "id": "2d670a26",
   "metadata": {},
   "outputs": [],
   "source": [
    "# # 원하는 컬럼만 추출\n",
    "# ext_sources = app_train[['SK_ID_CURR','EXT_SOURCE_1', 'EXT_SOURCE_2', 'EXT_SOURCE_3']]\n",
    "\n",
    "# # CSV로 저장\n",
    "# ext_sources.to_csv(\"application_train_EXT_SOURCE.csv\", index=False, encoding='utf-8-sig')"
   ]
  },
  {
   "cell_type": "code",
   "execution_count": 8,
   "id": "0c4033e2",
   "metadata": {},
   "outputs": [
    {
     "name": "stdout",
     "output_type": "stream",
     "text": [
      "(1716428, 17)\n",
      "(27299925, 3)\n"
     ]
    }
   ],
   "source": [
    "print(bureau.shape)\n",
    "print(balance.shape)"
   ]
  },
  {
   "cell_type": "code",
   "execution_count": 10,
   "id": "b38cf9c8",
   "metadata": {},
   "outputs": [
    {
     "name": "stdout",
     "output_type": "stream",
     "text": [
      "✅ 공통된 SK_ID_BUREAU 수 (교집합): 774354\n",
      "📁 bureau의 고유 SK_ID_BUREAU 수: 1716428\n",
      "📁 bureau_balance의 고유 SK_ID_BUREAU 수: 817395\n",
      "❌ bureau에만 있는 SK_ID_BUREAU 수: 942074\n",
      "❌ balance에만 있는 SK_ID_BUREAU 수: 43041\n"
     ]
    }
   ],
   "source": [
    "# 각 테이블의 고유 SK_ID_BUREAU 수\n",
    "n_bureau_unique = bureau[\"SK_ID_BUREAU\"].nunique()\n",
    "n_balance_unique = balance[\"SK_ID_BUREAU\"].nunique()\n",
    "\n",
    "# 각 집합 만들기\n",
    "bureau_ids = set(bureau[\"SK_ID_BUREAU\"])\n",
    "balance_ids = set(balance[\"SK_ID_BUREAU\"])\n",
    "\n",
    "# 교집합\n",
    "common_ids = bureau_ids & balance_ids\n",
    "n_common_ids = len(common_ids)\n",
    "\n",
    "# 결과 출력\n",
    "print(f\"✅ 공통된 SK_ID_BUREAU 수 (교집합): {n_common_ids}\")\n",
    "print(f\"📁 bureau의 고유 SK_ID_BUREAU 수: {n_bureau_unique}\")\n",
    "print(f\"📁 bureau_balance의 고유 SK_ID_BUREAU 수: {n_balance_unique}\")\n",
    "\n",
    "# 차집합 정보도 추가로 보고 싶다면\n",
    "print(f\"❌ bureau에만 있는 SK_ID_BUREAU 수: {len(bureau_ids - balance_ids)}\")\n",
    "print(f\"❌ balance에만 있는 SK_ID_BUREAU 수: {len(balance_ids - bureau_ids)}\")\n"
   ]
  },
  {
   "cell_type": "code",
   "execution_count": null,
   "id": "61484ccd",
   "metadata": {},
   "outputs": [],
   "source": []
  },
  {
   "cell_type": "code",
   "execution_count": null,
   "id": "d0fb9cd0",
   "metadata": {},
   "outputs": [
    {
     "data": {
      "application/vnd.microsoft.datawrangler.viewer.v0+json": {
       "columns": [
        {
         "name": "index",
         "rawType": "int64",
         "type": "integer"
        },
        {
         "name": "SK_ID_PREV",
         "rawType": "int64",
         "type": "integer"
        },
        {
         "name": "SK_ID_CURR",
         "rawType": "int64",
         "type": "integer"
        },
        {
         "name": "NAME_YIELD_GROUP",
         "rawType": "object",
         "type": "string"
        }
       ],
       "ref": "d838a245-d41c-431b-b8ee-467eed383bde",
       "rows": [
        [
         "0",
         "2030495",
         "271877",
         "middle"
        ],
        [
         "1",
         "2802425",
         "108129",
         "low_action"
        ],
        [
         "2",
         "2523466",
         "122040",
         "high"
        ],
        [
         "3",
         "2819243",
         "176158",
         "middle"
        ],
        [
         "4",
         "1784265",
         "202054",
         "high"
        ],
        [
         "5",
         "1383531",
         "199383",
         "low_normal"
        ],
        [
         "6",
         "2315218",
         "175704",
         "XNA"
        ],
        [
         "7",
         "1656711",
         "296299",
         "XNA"
        ],
        [
         "8",
         "2367563",
         "342292",
         "XNA"
        ],
        [
         "9",
         "2579447",
         "334349",
         "XNA"
        ],
        [
         "10",
         "1715995",
         "447712",
         "low_normal"
        ],
        [
         "11",
         "2257824",
         "161140",
         "middle"
        ],
        [
         "12",
         "2330894",
         "258628",
         "high"
        ],
        [
         "13",
         "1397919",
         "321676",
         "low_action"
        ],
        [
         "14",
         "2273188",
         "270658",
         "middle"
        ],
        [
         "15",
         "1232483",
         "151612",
         "low_normal"
        ],
        [
         "16",
         "2163253",
         "154602",
         "high"
        ],
        [
         "17",
         "1285768",
         "142748",
         "XNA"
        ],
        [
         "18",
         "2393109",
         "396305",
         "low_normal"
        ],
        [
         "19",
         "1173070",
         "199178",
         "high"
        ],
        [
         "20",
         "1506815",
         "166490",
         "low_normal"
        ],
        [
         "21",
         "1182516",
         "267782",
         "low_normal"
        ],
        [
         "22",
         "1172842",
         "302212",
         "XNA"
        ],
        [
         "23",
         "1172937",
         "302212",
         "low_normal"
        ],
        [
         "24",
         "1555330",
         "199353",
         "XNA"
        ],
        [
         "25",
         "1543131",
         "275707",
         "low_normal"
        ],
        [
         "26",
         "2536650",
         "338725",
         "middle"
        ],
        [
         "27",
         "1676258",
         "433469",
         "high"
        ],
        [
         "28",
         "2075578",
         "418383",
         "low_normal"
        ],
        [
         "29",
         "1583704",
         "315664",
         "XNA"
        ],
        [
         "30",
         "2138466",
         "170289",
         "middle"
        ],
        [
         "31",
         "2191093",
         "182450",
         "low_normal"
        ],
        [
         "32",
         "1471931",
         "257846",
         "XNA"
        ],
        [
         "33",
         "1478703",
         "393511",
         "XNA"
        ],
        [
         "34",
         "1629736",
         "255331",
         "XNA"
        ],
        [
         "35",
         "2027074",
         "208000",
         "middle"
        ],
        [
         "36",
         "2766278",
         "178375",
         "high"
        ],
        [
         "37",
         "1151694",
         "161591",
         "middle"
        ],
        [
         "38",
         "1692577",
         "125157",
         "low_action"
        ],
        [
         "39",
         "2740958",
         "281589",
         "high"
        ],
        [
         "40",
         "2317570",
         "258076",
         "high"
        ],
        [
         "41",
         "1366380",
         "247572",
         "XNA"
        ],
        [
         "42",
         "2319873",
         "188414",
         "low_action"
        ],
        [
         "43",
         "2057616",
         "304455",
         "middle"
        ],
        [
         "44",
         "2675386",
         "118974",
         "low_normal"
        ],
        [
         "45",
         "2621158",
         "281470",
         "XNA"
        ],
        [
         "46",
         "2586290",
         "447421",
         "middle"
        ],
        [
         "47",
         "1475738",
         "235737",
         "low_normal"
        ],
        [
         "48",
         "2600277",
         "256517",
         "XNA"
        ],
        [
         "49",
         "1371540",
         "200721",
         "XNA"
        ]
       ],
       "shape": {
        "columns": 3,
        "rows": 1670214
       }
      },
      "text/html": [
       "<div>\n",
       "<style scoped>\n",
       "    .dataframe tbody tr th:only-of-type {\n",
       "        vertical-align: middle;\n",
       "    }\n",
       "\n",
       "    .dataframe tbody tr th {\n",
       "        vertical-align: top;\n",
       "    }\n",
       "\n",
       "    .dataframe thead th {\n",
       "        text-align: right;\n",
       "    }\n",
       "</style>\n",
       "<table border=\"1\" class=\"dataframe\">\n",
       "  <thead>\n",
       "    <tr style=\"text-align: right;\">\n",
       "      <th></th>\n",
       "      <th>SK_ID_PREV</th>\n",
       "      <th>SK_ID_CURR</th>\n",
       "      <th>NAME_YIELD_GROUP</th>\n",
       "    </tr>\n",
       "  </thead>\n",
       "  <tbody>\n",
       "    <tr>\n",
       "      <th>0</th>\n",
       "      <td>2030495</td>\n",
       "      <td>271877</td>\n",
       "      <td>middle</td>\n",
       "    </tr>\n",
       "    <tr>\n",
       "      <th>1</th>\n",
       "      <td>2802425</td>\n",
       "      <td>108129</td>\n",
       "      <td>low_action</td>\n",
       "    </tr>\n",
       "    <tr>\n",
       "      <th>2</th>\n",
       "      <td>2523466</td>\n",
       "      <td>122040</td>\n",
       "      <td>high</td>\n",
       "    </tr>\n",
       "    <tr>\n",
       "      <th>3</th>\n",
       "      <td>2819243</td>\n",
       "      <td>176158</td>\n",
       "      <td>middle</td>\n",
       "    </tr>\n",
       "    <tr>\n",
       "      <th>4</th>\n",
       "      <td>1784265</td>\n",
       "      <td>202054</td>\n",
       "      <td>high</td>\n",
       "    </tr>\n",
       "    <tr>\n",
       "      <th>...</th>\n",
       "      <td>...</td>\n",
       "      <td>...</td>\n",
       "      <td>...</td>\n",
       "    </tr>\n",
       "    <tr>\n",
       "      <th>1670209</th>\n",
       "      <td>2300464</td>\n",
       "      <td>352015</td>\n",
       "      <td>low_normal</td>\n",
       "    </tr>\n",
       "    <tr>\n",
       "      <th>1670210</th>\n",
       "      <td>2357031</td>\n",
       "      <td>334635</td>\n",
       "      <td>middle</td>\n",
       "    </tr>\n",
       "    <tr>\n",
       "      <th>1670211</th>\n",
       "      <td>2659632</td>\n",
       "      <td>249544</td>\n",
       "      <td>low_normal</td>\n",
       "    </tr>\n",
       "    <tr>\n",
       "      <th>1670212</th>\n",
       "      <td>2785582</td>\n",
       "      <td>400317</td>\n",
       "      <td>low_normal</td>\n",
       "    </tr>\n",
       "    <tr>\n",
       "      <th>1670213</th>\n",
       "      <td>2418762</td>\n",
       "      <td>261212</td>\n",
       "      <td>middle</td>\n",
       "    </tr>\n",
       "  </tbody>\n",
       "</table>\n",
       "<p>1670214 rows × 3 columns</p>\n",
       "</div>"
      ],
      "text/plain": [
       "         SK_ID_PREV  SK_ID_CURR NAME_YIELD_GROUP\n",
       "0           2030495      271877           middle\n",
       "1           2802425      108129       low_action\n",
       "2           2523466      122040             high\n",
       "3           2819243      176158           middle\n",
       "4           1784265      202054             high\n",
       "...             ...         ...              ...\n",
       "1670209     2300464      352015       low_normal\n",
       "1670210     2357031      334635           middle\n",
       "1670211     2659632      249544       low_normal\n",
       "1670212     2785582      400317       low_normal\n",
       "1670213     2418762      261212           middle\n",
       "\n",
       "[1670214 rows x 3 columns]"
      ]
     },
     "execution_count": 3,
     "metadata": {},
     "output_type": "execute_result"
    }
   ],
   "source": [
    "prev_app[['SK_ID_CURR', 'SK_ID_PREV', 'NAME_YIELD_GROUP']]"
   ]
  },
  {
   "cell_type": "code",
   "execution_count": 6,
   "id": "33fbcbb6",
   "metadata": {},
   "outputs": [
    {
     "name": "stdout",
     "output_type": "stream",
     "text": [
      "        SK_ID_CURR NAME_YIELD_GROUP  COUNT\n",
      "546079      100001             high      1\n",
      "713321      100002       low_normal      1\n",
      "266624      100003           middle      2\n",
      "644614      100003       low_normal      1\n",
      "644615      100004           middle      1\n"
     ]
    }
   ],
   "source": [
    "# 고객별 이자율 구간 분포 집계\n",
    "yield_group_counts = (\n",
    "    prev_app[[\"SK_ID_CURR\", \"NAME_YIELD_GROUP\"]]\n",
    "    .value_counts()\n",
    "    .reset_index(name=\"COUNT\")\n",
    "    .sort_values([\"SK_ID_CURR\", \"COUNT\"], ascending=[True, False])\n",
    ")\n",
    "\n",
    "print(yield_group_counts.head())"
   ]
  },
  {
   "cell_type": "code",
   "execution_count": 9,
   "id": "6d03f3f6",
   "metadata": {},
   "outputs": [
    {
     "data": {
      "application/vnd.microsoft.datawrangler.viewer.v0+json": {
       "columns": [
        {
         "name": "index",
         "rawType": "int64",
         "type": "integer"
        },
        {
         "name": "SK_ID_CURR",
         "rawType": "int64",
         "type": "integer"
        },
        {
         "name": "NAME_YIELD_GROUP",
         "rawType": "object",
         "type": "string"
        },
        {
         "name": "COUNT",
         "rawType": "int64",
         "type": "integer"
        }
       ],
       "ref": "9a0aa609-1c82-40b9-955b-36dccbdc9eaa",
       "rows": [
        [
         "546079",
         "100001",
         "high",
         "1"
        ],
        [
         "713321",
         "100002",
         "low_normal",
         "1"
        ],
        [
         "266624",
         "100003",
         "middle",
         "2"
        ],
        [
         "644614",
         "100003",
         "low_normal",
         "1"
        ],
        [
         "644615",
         "100004",
         "middle",
         "1"
        ],
        [
         "644616",
         "100005",
         "XNA",
         "1"
        ],
        [
         "644617",
         "100005",
         "high",
         "1"
        ],
        [
         "90034",
         "100006",
         "XNA",
         "4"
        ],
        [
         "266613",
         "100006",
         "low_normal",
         "2"
        ],
        [
         "266617",
         "100006",
         "high",
         "2"
        ],
        [
         "644618",
         "100006",
         "middle",
         "1"
        ],
        [
         "189824",
         "100007",
         "high",
         "3"
        ],
        [
         "189839",
         "100007",
         "middle",
         "3"
        ],
        [
         "189859",
         "100008",
         "low_normal",
         "3"
        ],
        [
         "644613",
         "100008",
         "middle",
         "1"
        ],
        [
         "644619",
         "100008",
         "XNA",
         "1"
        ],
        [
         "189785",
         "100009",
         "middle",
         "3"
        ],
        [
         "266600",
         "100009",
         "high",
         "2"
        ],
        [
         "644620",
         "100009",
         "low_action",
         "1"
        ],
        [
         "644622",
         "100009",
         "low_normal",
         "1"
        ],
        [
         "644623",
         "100010",
         "low_action",
         "1"
        ],
        [
         "266645",
         "100011",
         "XNA",
         "2"
        ],
        [
         "644624",
         "100011",
         "high",
         "1"
        ],
        [
         "644625",
         "100011",
         "low_action",
         "1"
        ],
        [
         "189509",
         "100012",
         "high",
         "3"
        ],
        [
         "644626",
         "100012",
         "XNA",
         "1"
        ],
        [
         "266651",
         "100013",
         "middle",
         "2"
        ],
        [
         "644621",
         "100013",
         "high",
         "1"
        ],
        [
         "644627",
         "100013",
         "XNA",
         "1"
        ],
        [
         "644603",
         "100014",
         "middle",
         "1"
        ],
        [
         "644611",
         "100014",
         "low_action",
         "1"
        ],
        [
         "644610",
         "100015",
         "middle",
         "1"
        ],
        [
         "189456",
         "100016",
         "high",
         "3"
        ],
        [
         "644596",
         "100016",
         "middle",
         "1"
        ],
        [
         "644597",
         "100017",
         "low_normal",
         "1"
        ],
        [
         "644598",
         "100017",
         "middle",
         "1"
        ],
        [
         "189585",
         "100018",
         "low_normal",
         "3"
        ],
        [
         "644599",
         "100018",
         "high",
         "1"
        ],
        [
         "644600",
         "100019",
         "middle",
         "1"
        ],
        [
         "644595",
         "100020",
         "middle",
         "1"
        ],
        [
         "644601",
         "100020",
         "high",
         "1"
        ],
        [
         "189629",
         "100021",
         "middle",
         "3"
        ],
        [
         "266646",
         "100021",
         "low_normal",
         "2"
        ],
        [
         "644602",
         "100021",
         "XNA",
         "1"
        ],
        [
         "644604",
         "100022",
         "low_normal",
         "1"
        ],
        [
         "644605",
         "100023",
         "XNA",
         "1"
        ],
        [
         "644606",
         "100023",
         "high",
         "1"
        ],
        [
         "644607",
         "100023",
         "low_normal",
         "1"
        ],
        [
         "644608",
         "100023",
         "middle",
         "1"
        ],
        [
         "89996",
         "100025",
         "high",
         "4"
        ]
       ],
       "shape": {
        "columns": 3,
        "rows": 841687
       }
      },
      "text/html": [
       "<div>\n",
       "<style scoped>\n",
       "    .dataframe tbody tr th:only-of-type {\n",
       "        vertical-align: middle;\n",
       "    }\n",
       "\n",
       "    .dataframe tbody tr th {\n",
       "        vertical-align: top;\n",
       "    }\n",
       "\n",
       "    .dataframe thead th {\n",
       "        text-align: right;\n",
       "    }\n",
       "</style>\n",
       "<table border=\"1\" class=\"dataframe\">\n",
       "  <thead>\n",
       "    <tr style=\"text-align: right;\">\n",
       "      <th></th>\n",
       "      <th>SK_ID_CURR</th>\n",
       "      <th>NAME_YIELD_GROUP</th>\n",
       "      <th>COUNT</th>\n",
       "    </tr>\n",
       "  </thead>\n",
       "  <tbody>\n",
       "    <tr>\n",
       "      <th>546079</th>\n",
       "      <td>100001</td>\n",
       "      <td>high</td>\n",
       "      <td>1</td>\n",
       "    </tr>\n",
       "    <tr>\n",
       "      <th>713321</th>\n",
       "      <td>100002</td>\n",
       "      <td>low_normal</td>\n",
       "      <td>1</td>\n",
       "    </tr>\n",
       "    <tr>\n",
       "      <th>266624</th>\n",
       "      <td>100003</td>\n",
       "      <td>middle</td>\n",
       "      <td>2</td>\n",
       "    </tr>\n",
       "    <tr>\n",
       "      <th>644614</th>\n",
       "      <td>100003</td>\n",
       "      <td>low_normal</td>\n",
       "      <td>1</td>\n",
       "    </tr>\n",
       "    <tr>\n",
       "      <th>644615</th>\n",
       "      <td>100004</td>\n",
       "      <td>middle</td>\n",
       "      <td>1</td>\n",
       "    </tr>\n",
       "    <tr>\n",
       "      <th>...</th>\n",
       "      <td>...</td>\n",
       "      <td>...</td>\n",
       "      <td>...</td>\n",
       "    </tr>\n",
       "    <tr>\n",
       "      <th>421463</th>\n",
       "      <td>456254</td>\n",
       "      <td>high</td>\n",
       "      <td>1</td>\n",
       "    </tr>\n",
       "    <tr>\n",
       "      <th>163300</th>\n",
       "      <td>456255</td>\n",
       "      <td>middle</td>\n",
       "      <td>3</td>\n",
       "    </tr>\n",
       "    <tr>\n",
       "      <th>266620</th>\n",
       "      <td>456255</td>\n",
       "      <td>high</td>\n",
       "      <td>2</td>\n",
       "    </tr>\n",
       "    <tr>\n",
       "      <th>266626</th>\n",
       "      <td>456255</td>\n",
       "      <td>low_normal</td>\n",
       "      <td>2</td>\n",
       "    </tr>\n",
       "    <tr>\n",
       "      <th>421437</th>\n",
       "      <td>456255</td>\n",
       "      <td>XNA</td>\n",
       "      <td>1</td>\n",
       "    </tr>\n",
       "  </tbody>\n",
       "</table>\n",
       "<p>841687 rows × 3 columns</p>\n",
       "</div>"
      ],
      "text/plain": [
       "        SK_ID_CURR NAME_YIELD_GROUP  COUNT\n",
       "546079      100001             high      1\n",
       "713321      100002       low_normal      1\n",
       "266624      100003           middle      2\n",
       "644614      100003       low_normal      1\n",
       "644615      100004           middle      1\n",
       "...            ...              ...    ...\n",
       "421463      456254             high      1\n",
       "163300      456255           middle      3\n",
       "266620      456255             high      2\n",
       "266626      456255       low_normal      2\n",
       "421437      456255              XNA      1\n",
       "\n",
       "[841687 rows x 3 columns]"
      ]
     },
     "execution_count": 9,
     "metadata": {},
     "output_type": "execute_result"
    }
   ],
   "source": [
    "yield_group_counts"
   ]
  },
  {
   "cell_type": "code",
   "execution_count": 7,
   "id": "7b6c7758",
   "metadata": {},
   "outputs": [
    {
     "name": "stdout",
     "output_type": "stream",
     "text": [
      "NAME_YIELD_GROUP  XNA  high  low_action  low_normal  middle\n",
      "SK_ID_CURR                                                 \n",
      "100001              0     1           0           0       0\n",
      "100002              0     0           0           1       0\n",
      "100003              0     0           0           1       2\n",
      "100004              0     0           0           0       1\n",
      "100005              1     1           0           0       0\n"
     ]
    }
   ],
   "source": [
    "# pivot 형태: 고객별 이자율 그룹 빈도\n",
    "yield_group_pivot = (\n",
    "    prev_app[[\"SK_ID_CURR\", \"NAME_YIELD_GROUP\"]]\n",
    "    .value_counts()\n",
    "    .unstack(fill_value=0)\n",
    ")\n",
    "\n",
    "print(yield_group_pivot.head())"
   ]
  },
  {
   "cell_type": "code",
   "execution_count": 8,
   "id": "6221e386",
   "metadata": {},
   "outputs": [
    {
     "data": {
      "application/vnd.microsoft.datawrangler.viewer.v0+json": {
       "columns": [
        {
         "name": "SK_ID_CURR",
         "rawType": "int64",
         "type": "integer"
        },
        {
         "name": "XNA",
         "rawType": "int64",
         "type": "integer"
        },
        {
         "name": "high",
         "rawType": "int64",
         "type": "integer"
        },
        {
         "name": "low_action",
         "rawType": "int64",
         "type": "integer"
        },
        {
         "name": "low_normal",
         "rawType": "int64",
         "type": "integer"
        },
        {
         "name": "middle",
         "rawType": "int64",
         "type": "integer"
        }
       ],
       "ref": "532cd967-746f-458b-925c-d8f06eba68eb",
       "rows": [
        [
         "100001",
         "0",
         "1",
         "0",
         "0",
         "0"
        ],
        [
         "100002",
         "0",
         "0",
         "0",
         "1",
         "0"
        ],
        [
         "100003",
         "0",
         "0",
         "0",
         "1",
         "2"
        ],
        [
         "100004",
         "0",
         "0",
         "0",
         "0",
         "1"
        ],
        [
         "100005",
         "1",
         "1",
         "0",
         "0",
         "0"
        ],
        [
         "100006",
         "4",
         "2",
         "0",
         "2",
         "1"
        ],
        [
         "100007",
         "0",
         "3",
         "0",
         "0",
         "3"
        ],
        [
         "100008",
         "1",
         "0",
         "0",
         "3",
         "1"
        ],
        [
         "100009",
         "0",
         "2",
         "1",
         "1",
         "3"
        ],
        [
         "100010",
         "0",
         "0",
         "1",
         "0",
         "0"
        ],
        [
         "100011",
         "2",
         "1",
         "1",
         "0",
         "0"
        ],
        [
         "100012",
         "1",
         "3",
         "0",
         "0",
         "0"
        ],
        [
         "100013",
         "1",
         "1",
         "0",
         "0",
         "2"
        ],
        [
         "100014",
         "0",
         "0",
         "1",
         "0",
         "1"
        ],
        [
         "100015",
         "0",
         "0",
         "0",
         "0",
         "1"
        ],
        [
         "100016",
         "0",
         "3",
         "0",
         "0",
         "1"
        ],
        [
         "100017",
         "0",
         "0",
         "0",
         "1",
         "1"
        ],
        [
         "100018",
         "0",
         "1",
         "0",
         "3",
         "0"
        ],
        [
         "100019",
         "0",
         "0",
         "0",
         "0",
         "1"
        ],
        [
         "100020",
         "0",
         "1",
         "0",
         "0",
         "1"
        ],
        [
         "100021",
         "1",
         "0",
         "0",
         "2",
         "3"
        ],
        [
         "100022",
         "0",
         "0",
         "0",
         "1",
         "0"
        ],
        [
         "100023",
         "1",
         "1",
         "0",
         "1",
         "1"
        ],
        [
         "100025",
         "1",
         "4",
         "0",
         "1",
         "2"
        ],
        [
         "100026",
         "1",
         "1",
         "0",
         "1",
         "0"
        ],
        [
         "100027",
         "1",
         "0",
         "0",
         "1",
         "2"
        ],
        [
         "100028",
         "3",
         "0",
         "1",
         "0",
         "1"
        ],
        [
         "100029",
         "0",
         "0",
         "0",
         "0",
         "1"
        ],
        [
         "100030",
         "4",
         "2",
         "0",
         "5",
         "1"
        ],
        [
         "100032",
         "0",
         "0",
         "0",
         "0",
         "1"
        ],
        [
         "100033",
         "0",
         "0",
         "0",
         "0",
         "1"
        ],
        [
         "100034",
         "0",
         "1",
         "0",
         "0",
         "1"
        ],
        [
         "100035",
         "12",
         "5",
         "1",
         "1",
         "3"
        ],
        [
         "100036",
         "4",
         "0",
         "2",
         "1",
         "1"
        ],
        [
         "100037",
         "0",
         "2",
         "0",
         "1",
         "2"
        ],
        [
         "100038",
         "0",
         "1",
         "0",
         "0",
         "1"
        ],
        [
         "100039",
         "1",
         "2",
         "0",
         "1",
         "0"
        ],
        [
         "100040",
         "0",
         "0",
         "0",
         "1",
         "0"
        ],
        [
         "100041",
         "0",
         "2",
         "0",
         "0",
         "0"
        ],
        [
         "100042",
         "1",
         "1",
         "0",
         "3",
         "4"
        ],
        [
         "100043",
         "1",
         "0",
         "0",
         "6",
         "2"
        ],
        [
         "100044",
         "0",
         "1",
         "0",
         "1",
         "2"
        ],
        [
         "100045",
         "0",
         "2",
         "0",
         "2",
         "0"
        ],
        [
         "100046",
         "0",
         "0",
         "0",
         "2",
         "0"
        ],
        [
         "100047",
         "1",
         "2",
         "0",
         "3",
         "0"
        ],
        [
         "100048",
         "2",
         "0",
         "0",
         "1",
         "1"
        ],
        [
         "100049",
         "1",
         "3",
         "0",
         "0",
         "1"
        ],
        [
         "100050",
         "2",
         "0",
         "1",
         "0",
         "0"
        ],
        [
         "100051",
         "2",
         "0",
         "1",
         "0",
         "0"
        ],
        [
         "100052",
         "0",
         "2",
         "0",
         "0",
         "0"
        ]
       ],
       "shape": {
        "columns": 5,
        "rows": 338857
       }
      },
      "text/html": [
       "<div>\n",
       "<style scoped>\n",
       "    .dataframe tbody tr th:only-of-type {\n",
       "        vertical-align: middle;\n",
       "    }\n",
       "\n",
       "    .dataframe tbody tr th {\n",
       "        vertical-align: top;\n",
       "    }\n",
       "\n",
       "    .dataframe thead th {\n",
       "        text-align: right;\n",
       "    }\n",
       "</style>\n",
       "<table border=\"1\" class=\"dataframe\">\n",
       "  <thead>\n",
       "    <tr style=\"text-align: right;\">\n",
       "      <th>NAME_YIELD_GROUP</th>\n",
       "      <th>XNA</th>\n",
       "      <th>high</th>\n",
       "      <th>low_action</th>\n",
       "      <th>low_normal</th>\n",
       "      <th>middle</th>\n",
       "    </tr>\n",
       "    <tr>\n",
       "      <th>SK_ID_CURR</th>\n",
       "      <th></th>\n",
       "      <th></th>\n",
       "      <th></th>\n",
       "      <th></th>\n",
       "      <th></th>\n",
       "    </tr>\n",
       "  </thead>\n",
       "  <tbody>\n",
       "    <tr>\n",
       "      <th>100001</th>\n",
       "      <td>0</td>\n",
       "      <td>1</td>\n",
       "      <td>0</td>\n",
       "      <td>0</td>\n",
       "      <td>0</td>\n",
       "    </tr>\n",
       "    <tr>\n",
       "      <th>100002</th>\n",
       "      <td>0</td>\n",
       "      <td>0</td>\n",
       "      <td>0</td>\n",
       "      <td>1</td>\n",
       "      <td>0</td>\n",
       "    </tr>\n",
       "    <tr>\n",
       "      <th>100003</th>\n",
       "      <td>0</td>\n",
       "      <td>0</td>\n",
       "      <td>0</td>\n",
       "      <td>1</td>\n",
       "      <td>2</td>\n",
       "    </tr>\n",
       "    <tr>\n",
       "      <th>100004</th>\n",
       "      <td>0</td>\n",
       "      <td>0</td>\n",
       "      <td>0</td>\n",
       "      <td>0</td>\n",
       "      <td>1</td>\n",
       "    </tr>\n",
       "    <tr>\n",
       "      <th>100005</th>\n",
       "      <td>1</td>\n",
       "      <td>1</td>\n",
       "      <td>0</td>\n",
       "      <td>0</td>\n",
       "      <td>0</td>\n",
       "    </tr>\n",
       "    <tr>\n",
       "      <th>...</th>\n",
       "      <td>...</td>\n",
       "      <td>...</td>\n",
       "      <td>...</td>\n",
       "      <td>...</td>\n",
       "      <td>...</td>\n",
       "    </tr>\n",
       "    <tr>\n",
       "      <th>456251</th>\n",
       "      <td>0</td>\n",
       "      <td>1</td>\n",
       "      <td>0</td>\n",
       "      <td>0</td>\n",
       "      <td>0</td>\n",
       "    </tr>\n",
       "    <tr>\n",
       "      <th>456252</th>\n",
       "      <td>0</td>\n",
       "      <td>0</td>\n",
       "      <td>0</td>\n",
       "      <td>1</td>\n",
       "      <td>0</td>\n",
       "    </tr>\n",
       "    <tr>\n",
       "      <th>456253</th>\n",
       "      <td>0</td>\n",
       "      <td>2</td>\n",
       "      <td>0</td>\n",
       "      <td>0</td>\n",
       "      <td>0</td>\n",
       "    </tr>\n",
       "    <tr>\n",
       "      <th>456254</th>\n",
       "      <td>0</td>\n",
       "      <td>1</td>\n",
       "      <td>0</td>\n",
       "      <td>1</td>\n",
       "      <td>0</td>\n",
       "    </tr>\n",
       "    <tr>\n",
       "      <th>456255</th>\n",
       "      <td>1</td>\n",
       "      <td>2</td>\n",
       "      <td>0</td>\n",
       "      <td>2</td>\n",
       "      <td>3</td>\n",
       "    </tr>\n",
       "  </tbody>\n",
       "</table>\n",
       "<p>338857 rows × 5 columns</p>\n",
       "</div>"
      ],
      "text/plain": [
       "NAME_YIELD_GROUP  XNA  high  low_action  low_normal  middle\n",
       "SK_ID_CURR                                                 \n",
       "100001              0     1           0           0       0\n",
       "100002              0     0           0           1       0\n",
       "100003              0     0           0           1       2\n",
       "100004              0     0           0           0       1\n",
       "100005              1     1           0           0       0\n",
       "...               ...   ...         ...         ...     ...\n",
       "456251              0     1           0           0       0\n",
       "456252              0     0           0           1       0\n",
       "456253              0     2           0           0       0\n",
       "456254              0     1           0           1       0\n",
       "456255              1     2           0           2       3\n",
       "\n",
       "[338857 rows x 5 columns]"
      ]
     },
     "execution_count": 8,
     "metadata": {},
     "output_type": "execute_result"
    }
   ],
   "source": [
    "yield_group_pivot"
   ]
  }
 ],
 "metadata": {
  "kernelspec": {
   "display_name": "base",
   "language": "python",
   "name": "python3"
  },
  "language_info": {
   "codemirror_mode": {
    "name": "ipython",
    "version": 3
   },
   "file_extension": ".py",
   "mimetype": "text/x-python",
   "name": "python",
   "nbconvert_exporter": "python",
   "pygments_lexer": "ipython3",
   "version": "3.12.3"
  }
 },
 "nbformat": 4,
 "nbformat_minor": 5
}
