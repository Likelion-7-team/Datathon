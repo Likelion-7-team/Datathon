{
 "cells": [
  {
   "cell_type": "code",
   "execution_count": 1,
   "id": "f21c65db",
   "metadata": {},
   "outputs": [],
   "source": [
    "import numpy as np\n",
    "import pandas as pd\n",
    "import matplotlib.pyplot as plt\n",
    "import seaborn as sns\n",
    "\n",
    "# 그래프 기본 설정\n",
    "plt.rcParams['font.family'] = 'Malgun Gothic'\n",
    "plt.rcParams['axes.unicode_minus'] = False"
   ]
  },
  {
   "cell_type": "code",
   "execution_count": 4,
   "id": "634ffa58",
   "metadata": {},
   "outputs": [],
   "source": [
    "# 2. CSV 파일들 로드\n",
    "df = pd.read_csv('./preprocessing/apllication_train_4.csv', encoding='utf-8-sig')"
   ]
  },
  {
   "cell_type": "code",
   "execution_count": null,
   "id": "46fab212",
   "metadata": {},
   "outputs": [
    {
     "name": "stdout",
     "output_type": "stream",
     "text": [
      "대출대비소득비율\n",
      "0.50    3.26510\n",
      "0.75    5.15990\n",
      "0.90    7.48750\n",
      "0.95    9.15675\n",
      "Name: 대출대비소득비율, dtype: float64\n",
      "연금대비소득비율\n",
      "0.50    0.1628\n",
      "0.75    0.2291\n",
      "0.90    0.3016\n",
      "0.95    0.3547\n",
      "Name: 연금대비소득비율, dtype: float64\n",
      "대출대비연금비율\n",
      "0.50    20.0000\n",
      "0.75    27.1000\n",
      "0.90    34.0631\n",
      "0.95    34.5423\n",
      "Name: 대출대비연금비율, dtype: float64\n"
     ]
    }
   ],
   "source": [
    "# 세 비율의 분위수(quantile) 확인\n",
    "metrics = ['대출대비소득비율','연금대비소득비율','대출대비연금비율']\n",
    "\n",
    "for m in metrics:\n",
    "    print(m)\n",
    "    print(df[m].quantile([0.5, 0.75, 0.9, 0.95]))"
   ]
  },
  {
   "cell_type": "markdown",
   "id": "3e8ba65c",
   "metadata": {},
   "source": [
    "**1. 대출대비소득비율(LTI)**  \n",
    "\n",
    "- 50% : **3.27**\n",
    "    - 절반의 사람은 대출 금액이 연소득의 약 3.3배 이하\n",
    "- 75% : **5.16**\n",
    "    - 상위 25%는 연소득의 5배 이상 대출\n",
    "- 90% : **7.49**\n",
    "    - 상위 10%는 연소득의 7.5배 이상 대출\n",
    "- 연소득 대비 대출 규모가 큰 사람(특히 5배 이상)은 위험군 후보.\n",
    "\n",
    "---\n",
    "\n",
    "**2. 연금대비소득비율 (DSR)**\n",
    "\n",
    "- 중앙값 **0.16**\n",
    "    - 절반의 사람은 소득의 16% 이하를 월 상환에 사용.\n",
    "\n",
    "- 75% **0.229**\n",
    "    - 상위 25%는 소득의 23% 이상을 월 상환에 사용.\n",
    "\n",
    "- 90% **0.302**\n",
    "    - 상위 10%는 30% 이상을 월 상환에 사용.\n",
    "- DSR이 30%를 넘는 구간(상위 10%)은 상당히 상환 부담이 크다고 볼 수 있음.\n",
    "\n",
    "---\n",
    "\n",
    "**3. 대출대비연금비율 (상환 기간 지표)**\n",
    "- 중앙값 20\n",
    "    - 대출금 ÷ 월 상환액 = 20 → 대략 20개월(1.5년) 수준.\n",
    "\n",
    "- 75% 27.1\n",
    "    - 상위 25%는 27개월 이상 걸림.\n",
    "\n",
    "- 90% 34.1\n",
    "    - 상위 10%는 34개월 이상 걸림.\n",
    "\n",
    "- 값이 크다는 건 상환 기간이 길다는 뜻 → 부채가 장기간 지속."
   ]
  },
  {
   "cell_type": "markdown",
   "id": "4a1d8ca2",
   "metadata": {},
   "source": [
    "**각 지표별 점수**  \n",
    "```\n",
    "값 < 75% 분위수  : 0점  \n",
    "75% ≤ 값 < 90%  : 1점  \n",
    "값 ≥ 90%        : 2점  \n",
    "```\n",
    "\n",
    "**risk_level**  \n",
    "```\n",
    "총점 0~1점 → Low  \n",
    "총점 2~3점 → Medium  \n",
    "총점 4~6점 → High  \n",
    "```\n",
    "\n",
    "**해석**  \n",
    "**High**   \n",
    ": 세 지표 중 2개 이상이 상위 10% 이상  \n",
    "**Medium**  \n",
    ": 1~2개 지표가 상위 25% 이상  \n",
    "**Low**  \n",
    ": 대부분 지표가 중간 이하  "
   ]
  },
  {
   "cell_type": "code",
   "execution_count": null,
   "id": "e845b05a",
   "metadata": {},
   "outputs": [],
   "source": [
    "# 분위수 기준선\n",
    "q = {\n",
    "    '대출대비소득비율': (5.15990, 7.48750),\n",
    "    '연금대비소득비율': (0.2291, 0.3016),\n",
    "    '대출대비연금비율': (27.1, 34.0631)\n",
    "}\n",
    "\n",
    "def score(val, q75, q90):\n",
    "    if val >= q90:\n",
    "        return 2\n",
    "    elif val >= q75:\n",
    "        return 1\n",
    "    else:\n",
    "        return 0\n",
    "\n",
    "# risk_score 계산\n",
    "df['risk_score'] = (\n",
    "    df['대출대비소득비율'].apply(lambda x: score(x, *q['대출대비소득비율'])) +\n",
    "    df['연금대비소득비율'].apply(lambda x: score(x, *q['연금대비소득비율'])) +\n",
    "    df['대출대비연금비율'].apply(lambda x: score(x, *q['대출대비연금비율']))\n",
    ")\n",
    "\n",
    "# 등급화\n",
    "df['risk_level'] = pd.cut(df['risk_score'],\n",
    "                          bins=[-1, 1, 3, 6],\n",
    "                          labels=['Low', 'Medium', 'High'])\n"
   ]
  },
  {
   "cell_type": "code",
   "execution_count": 11,
   "id": "a650b461",
   "metadata": {},
   "outputs": [
    {
     "name": "stdout",
     "output_type": "stream",
     "text": [
      "risk_level\n",
      "Low       217138\n",
      "Medium     60275\n",
      "High       30098\n",
      "Name: count, dtype: int64\n"
     ]
    }
   ],
   "source": [
    "print(df['risk_level'].value_counts())"
   ]
  },
  {
   "cell_type": "code",
   "execution_count": 13,
   "id": "b0aba7f6",
   "metadata": {},
   "outputs": [
    {
     "name": "stdout",
     "output_type": "stream",
     "text": [
      "risk_level\n",
      "Low       0.084002\n",
      "Medium    0.073861\n",
      "High      0.070868\n",
      "Name: TARGET, dtype: float64\n"
     ]
    },
    {
     "name": "stderr",
     "output_type": "stream",
     "text": [
      "C:\\Users\\COTTA\\AppData\\Local\\Temp\\ipykernel_14284\\3175451131.py:1: FutureWarning: The default of observed=False is deprecated and will be changed to True in a future version of pandas. Pass observed=False to retain current behavior or observed=True to adopt the future default and silence this warning.\n",
      "  print(df.groupby('risk_level')['TARGET'].mean())\n"
     ]
    }
   ],
   "source": [
    "print(df.groupby('risk_level')['TARGET'].mean())"
   ]
  },
  {
   "cell_type": "markdown",
   "id": "254dbec1",
   "metadata": {},
   "source": [
    "- 고위험으로 분류된 사람들이 상환 능력이 좋은 것 같음\n",
    "- 고객군 자체가 무담보, 소액대출 중심이라서 위같은 방식은 영향력이 적은 것 같음\n",
    "- 부채 부담 정도로 보는게 맞는 것 같음.\n",
    "- `risk_level` -> `burden_level`"
   ]
  },
  {
   "cell_type": "code",
   "execution_count": 15,
   "id": "2a9a0627",
   "metadata": {},
   "outputs": [],
   "source": [
    "df.rename(columns={\n",
    "    'risk_level': 'burden_level',\n",
    "    'risk_score': 'burden_score'\n",
    "}, inplace=True)"
   ]
  },
  {
   "cell_type": "code",
   "execution_count": null,
   "id": "905d98b9",
   "metadata": {},
   "outputs": [],
   "source": [
    "df['AGE'] = (-df['DAYS_BIRTH'] / 365).astype(int)\n",
    "\n",
    "# AGE_BIN\n",
    "bins = [0, 29, 39, 49, 59, 69, 100]\n",
    "labels = ['20대 이하', '30대', '40대', '50대', '60대', '70대 이상']\n",
    "df['AGE_BIN'] = pd.cut(df['AGE'], bins=bins, labels=labels, right=True, include_lowest=True)"
   ]
  },
  {
   "cell_type": "code",
   "execution_count": 42,
   "id": "e81ede54",
   "metadata": {},
   "outputs": [
    {
     "name": "stdout",
     "output_type": "stream",
     "text": [
      "---------------------------------\n",
      "직업별 인원수\n",
      "OCCUPATION_TYPE\n",
      "Laborers                 0.2379\n",
      "Sales staff              0.1702\n",
      "Core staff               0.1539\n",
      "Managers                 0.0703\n",
      "Medicine staff           0.0613\n",
      "Drivers                  0.0574\n",
      "High skill tech staff    0.0538\n",
      "Accountants              0.0509\n",
      "Security staff           0.0380\n",
      "Cooking staff            0.0371\n",
      "Cleaning staff           0.0301\n",
      "Private service staff    0.0097\n",
      "Secretaries              0.0083\n",
      "Low-skill Laborers       0.0077\n",
      "Waiters/barmen staff     0.0058\n",
      "HR staff                 0.0033\n",
      "Realty agents            0.0022\n",
      "IT staff                 0.0021\n",
      "Name: proportion, dtype: float64\n",
      "---------------------------------\n",
      "연령대 구간별 분포\n",
      "AGE_BIN\n",
      "50대       0.2861\n",
      "40대       0.2685\n",
      "30대       0.2303\n",
      "60대       0.1366\n",
      "20대 이하    0.0785\n",
      "70대 이상    0.0000\n",
      "Name: proportion, dtype: float64\n",
      "---------------------------------\n",
      "평균 소득, 평균 대출 비교\n",
      "              AMT_INCOME_TOTAL  AMT_CREDIT\n",
      "burden_level                              \n",
      "Low                   177281.0    450194.0\n",
      "Medium                165098.0    883425.0\n",
      "High                  115011.0   1103213.0\n"
     ]
    },
    {
     "name": "stderr",
     "output_type": "stream",
     "text": [
      "C:\\Users\\COTTA\\AppData\\Local\\Temp\\ipykernel_14284\\1376394274.py:19: FutureWarning: The default of observed=False is deprecated and will be changed to True in a future version of pandas. Pass observed=False to retain current behavior or observed=True to adopt the future default and silence this warning.\n",
      "  print(df.groupby('burden_level')[['AMT_INCOME_TOTAL', 'AMT_CREDIT']].mean().round(0))\n"
     ]
    }
   ],
   "source": [
    "# burden_level == High인 subset\n",
    "df_high = df[df['burden_level'] == 'High']\n",
    "\n",
    "# 직업별 인원수\n",
    "print('-'*33)\n",
    "print('직업별 인원수')\n",
    "print(df_high['OCCUPATION_TYPE'].value_counts(normalize=True).round(4))\n",
    "# print(df_high['OCCUPATION_TYPE'].value_counts())\n",
    "\n",
    "# 연령대 구간별 분포\n",
    "print('-'*33)\n",
    "print('연령대 구간별 분포')\n",
    "print(df_high['AGE_BIN'].value_counts(normalize=True).round(4))\n",
    "# print(df_high['AGE_BIN'].value_counts())\n",
    "\n",
    "# 평균 소득, 평균 대출 비교\n",
    "print('-'*33)\n",
    "print('평균 소득, 평균 대출 비교')\n",
    "print(df.groupby('burden_level')[['AMT_INCOME_TOTAL', 'AMT_CREDIT']].mean().round(0))"
   ]
  },
  {
   "cell_type": "code",
   "execution_count": 43,
   "id": "fb8e105a",
   "metadata": {},
   "outputs": [
    {
     "name": "stdout",
     "output_type": "stream",
     "text": [
      "burden_level             Low  Medium   High\n",
      "OCCUPATION_TYPE                            \n",
      "Laborers               0.269   0.243  0.238\n",
      "Sales staff            0.149   0.155  0.170\n",
      "Core staff             0.125   0.139  0.154\n",
      "Managers               0.104   0.105  0.070\n",
      "Medicine staff         0.037   0.045  0.061\n",
      "Drivers                0.094   0.081  0.057\n",
      "High skill tech staff  0.053   0.057  0.054\n",
      "Accountants            0.044   0.052  0.051\n",
      "Security staff         0.031   0.031  0.038\n",
      "Cooking staff          0.027   0.029  0.037\n",
      "Cleaning staff         0.021   0.021  0.030\n",
      "Private service staff  0.013   0.013  0.010\n",
      "Secretaries            0.006   0.006  0.008\n",
      "Low-skill Laborers     0.011   0.008  0.008\n",
      "Waiters/barmen staff   0.007   0.005  0.006\n",
      "HR staff               0.003   0.003  0.003\n",
      "Realty agents          0.004   0.003  0.002\n",
      "IT staff               0.003   0.002  0.002\n"
     ]
    },
    {
     "name": "stderr",
     "output_type": "stream",
     "text": [
      "C:\\Users\\COTTA\\AppData\\Local\\Temp\\ipykernel_14284\\1367836321.py:3: FutureWarning: The default of observed=False is deprecated and will be changed to True in a future version of pandas. Pass observed=False to retain current behavior or observed=True to adopt the future default and silence this warning.\n",
      "  df.groupby('burden_level')['OCCUPATION_TYPE']\n"
     ]
    }
   ],
   "source": [
    "# 1. 직업별 비율 (burden_level별로 그룹화)\n",
    "occupation_dist = (\n",
    "    df.groupby('burden_level')['OCCUPATION_TYPE']\n",
    "    .value_counts(normalize=True)\n",
    "    .rename('proportion')\n",
    "    .reset_index()\n",
    ")\n",
    "\n",
    "# 2. 보기 좋게 pivot\n",
    "pivot_table = occupation_dist.pivot(\n",
    "    index='OCCUPATION_TYPE',\n",
    "    columns='burden_level',\n",
    "    values='proportion'\n",
    ").fillna(0).round(3)\n",
    "\n",
    "# 3. High burden 기준으로 정렬\n",
    "pivot_table = pivot_table.sort_values(by='High', ascending=False)\n",
    "\n",
    "# 4. 결과 확인\n",
    "print(pivot_table)\n"
   ]
  },
  {
   "cell_type": "markdown",
   "id": "1b9e7abb",
   "metadata": {},
   "source": [
    "| 직업                 | Low → High 비율 변화 | 인사이트                                   |\n",
    "| ------------------ | ---------------- | -------------------------------------- |\n",
    "| **Laborers**       | 26.9% → 23.8%    | 비율 감소 (여전히 가장 많은 직군이지만 부담은 비례하지 않음)    |\n",
    "| **Sales staff**    | 14.9% → 17.0%    | 증가 → **영업직 고부담군**                   |\n",
    "| **Core staff**     | 12.5% → 15.4%    | 증가 → **사무직 내 부담 증가**                |\n",
    "| **Medicine staff** | 3.7% → 6.1%      | 뚜렷한 증가 → **중소병원·개인 병원 종사자 고부담** 가능성 |\n",
    "| **Cleaning staff** | 2.1% → 3.0%      | 증가 → **저숙련 서비스직 고부담 군**             |\n"
   ]
  },
  {
   "cell_type": "markdown",
   "id": "8b719227",
   "metadata": {},
   "source": [
    "##### 고부담 페르소나 (High burden 대표)\n",
    "- 사무직/판매직/의료보조/청소 등\n",
    "- 30~50대 중소득층 중심, 고정 소득은 있으나 대출이 큼\n",
    "- 소득은 중간이지만 상환 부담이 구조적으로 큼\n",
    "- 직군 예시: Sales staff, Core staff, Medicine staff, Cleaning staff\n",
    "\n",
    "##### 저부담 페르소나 (Low burden 대표)\n",
    "- 관리직, 고숙련직 (IT, 회계), 운전직 등\n",
    "- 소득 대비 대출 규모 작고, 상환기간도 짧음\n",
    "- 중장년층 우량 고객군"
   ]
  },
  {
   "cell_type": "code",
   "execution_count": 47,
   "id": "a0d16659",
   "metadata": {},
   "outputs": [
    {
     "name": "stdout",
     "output_type": "stream",
     "text": [
      "OCCUPATION_TYPE            \n",
      "Accountants            0.75    5.250000\n",
      "                       0.90    7.471760\n",
      "Cleaning staff         0.75    5.555600\n",
      "                       0.90    8.022960\n",
      "Cooking staff          0.75    5.555600\n",
      "                       0.90    7.986700\n",
      "Core staff             0.75    5.315800\n",
      "                       0.90    7.628110\n",
      "Drivers                0.75    4.625100\n",
      "                       0.90    6.514500\n",
      "HR staff               0.75    5.190350\n",
      "                       0.90    7.766540\n",
      "High skill tech staff  0.75    5.130100\n",
      "                       0.90    7.200000\n",
      "IT staff               0.75    4.538550\n",
      "                       0.90    6.677800\n",
      "Laborers               0.75    4.951075\n",
      "                       0.90    7.072000\n",
      "Low-skill Laborers     0.75    4.741300\n",
      "                       0.90    6.845700\n",
      "Managers               0.75    4.540300\n",
      "                       0.90    6.526300\n",
      "Medicine staff         0.75    5.833300\n",
      "                       0.90    8.333300\n",
      "Private service staff  0.75    4.964375\n",
      "                       0.90    6.791720\n",
      "Realty agents          0.75    4.762050\n",
      "                       0.90    6.583200\n",
      "Sales staff            0.75    5.259725\n",
      "                       0.90    7.500000\n",
      "Secretaries            0.75    5.594000\n",
      "                       0.90    7.994680\n",
      "Security staff         0.75    5.296900\n",
      "                       0.90    7.657600\n",
      "Waiters/barmen staff   0.75    4.773050\n",
      "                       0.90    7.183870\n",
      "Name: 대출대비소득비율, dtype: float64\n"
     ]
    }
   ],
   "source": [
    "print(df.groupby('OCCUPATION_TYPE')['대출대비소득비율'].quantile([0.75, 0.9]))"
   ]
  },
  {
   "cell_type": "code",
   "execution_count": 46,
   "id": "ddaba5ba",
   "metadata": {},
   "outputs": [
    {
     "name": "stdout",
     "output_type": "stream",
     "text": [
      "AGE_BIN\n",
      "20대 이하    0.168929\n",
      "30대       0.176165\n",
      "40대       0.180907\n",
      "50대       0.188737\n",
      "60대       0.192238\n",
      "70대 이상         NaN\n",
      "Name: 연금대비소득비율, dtype: float64\n"
     ]
    },
    {
     "name": "stderr",
     "output_type": "stream",
     "text": [
      "C:\\Users\\COTTA\\AppData\\Local\\Temp\\ipykernel_14284\\751719490.py:1: FutureWarning: The default of observed=False is deprecated and will be changed to True in a future version of pandas. Pass observed=False to retain current behavior or observed=True to adopt the future default and silence this warning.\n",
      "  print(df.groupby('AGE_BIN')['연금대비소득비율'].mean())\n"
     ]
    }
   ],
   "source": [
    "print(df.groupby('AGE_BIN')['연금대비소득비율'].mean())"
   ]
  }
 ],
 "metadata": {
  "kernelspec": {
   "display_name": "base",
   "language": "python",
   "name": "python3"
  },
  "language_info": {
   "codemirror_mode": {
    "name": "ipython",
    "version": 3
   },
   "file_extension": ".py",
   "mimetype": "text/x-python",
   "name": "python",
   "nbconvert_exporter": "python",
   "pygments_lexer": "ipython3",
   "version": "3.12.3"
  }
 },
 "nbformat": 4,
 "nbformat_minor": 5
}
