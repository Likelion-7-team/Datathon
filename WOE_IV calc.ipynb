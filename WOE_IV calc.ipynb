{
 "cells": [
  {
   "cell_type": "code",
   "execution_count": null,
   "metadata": {},
   "outputs": [],
   "source": [
    "import pandas as pd\n",
    "import numpy as np\n",
    "from optbinning import BinningProcess\n"
   ]
  },
  {
   "cell_type": "code",
   "execution_count": null,
   "metadata": {},
   "outputs": [],
   "source": [
    "df_master = pd.read_csv('merged_kpi_dataset_v2.csv')"
   ]
  },
  {
   "cell_type": "markdown",
   "metadata": {},
   "source": [
    "bureau 집계 파일이랑 합치기"
   ]
  },
  {
   "cell_type": "code",
   "execution_count": null,
   "metadata": {},
   "outputs": [],
   "source": [
    "# 집계된 bureau 파일 불러오기\n",
    "agg_bureau = pd.read_csv(\"agg_bureau.csv\")\n",
    "\n",
    "# app 기준 ID 추출\n",
    "valid_ids = set(df_master[\"SK_ID_CURR\"])\n",
    "agg_bureau_filtered = agg_bureau[agg_bureau[\"SK_ID_CURR\"].isin(valid_ids)].copy()\n",
    "\n",
    "# 겹치는 컬럼 확인\n",
    "common_cols = list(set(agg_bureau_filtered.columns) & set(df_master.columns))\n",
    "common_cols.remove(\"SK_ID_CURR\")  # ID는 남겨야 함\n",
    "\n",
    "# 덮어쓰기 위해 기존 컬럼 제거\n",
    "if common_cols:\n",
    "    df_master.drop(columns=common_cols, inplace=True)\n",
    "\n",
    "# 병합 (덮어쓰기 처리됨)\n",
    "df_master = df_master.merge(agg_bureau_filtered, on=\"SK_ID_CURR\", how=\"left\")\n",
    "\n",
    "# 저장\n",
    "df_master.to_csv(\"merged_kpi_dataset_v3.csv\", index=False, encoding=\"utf-8-sig\")\n",
    "print(\"병합 완료 → 'merged_kpi_dataset_v3.csv'\")"
   ]
  },
  {
   "cell_type": "markdown",
   "metadata": {},
   "source": [
    "-------"
   ]
  },
  {
   "cell_type": "markdown",
   "metadata": {},
   "source": []
  },
  {
   "cell_type": "markdown",
   "metadata": {},
   "source": [
    "### 데이터 수정"
   ]
  },
  {
   "cell_type": "code",
   "execution_count": null,
   "metadata": {},
   "outputs": [],
   "source": [
    "merged = df_master.copy()"
   ]
  },
  {
   "cell_type": "code",
   "execution_count": null,
   "metadata": {},
   "outputs": [],
   "source": [
    "agg_bureau"
   ]
  },
  {
   "cell_type": "code",
   "execution_count": null,
   "metadata": {},
   "outputs": [],
   "source": [
    "# 세 컬럼 모두 0인 경우 1, 아니면 0 → 거래내역 없음 플래그\n",
    "merged['NO_CREDIT_HISTORY_FLAG'] = (merged[cols].sum(axis=1) == 0).astype(int)"
   ]
  },
  {
   "cell_type": "code",
   "execution_count": null,
   "metadata": {},
   "outputs": [],
   "source": [
    "merged['CC_90PLUS'] = (merged['CC_90PLUS'] > 0).astype(int)"
   ]
  },
  {
   "cell_type": "markdown",
   "metadata": {},
   "source": [
    "--------"
   ]
  },
  {
   "cell_type": "code",
   "execution_count": null,
   "metadata": {},
   "outputs": [],
   "source": [
    "merged.head()"
   ]
  },
  {
   "cell_type": "markdown",
   "metadata": {},
   "source": [
    "### 참고용 ) 상관관계 확인"
   ]
  },
  {
   "cell_type": "code",
   "execution_count": null,
   "metadata": {},
   "outputs": [],
   "source": [
    "import seaborn as sns\n",
    "import matplotlib.pyplot as plt\n",
    "\n",
    "# 1. 수치형 변수만 추출 (상관계수는 수치형 변수 간에만 의미 있음)\n",
    "numeric_df = merged.select_dtypes(include=['number'])\n",
    "\n",
    "# 2. 상관계수 계산\n",
    "corr = numeric_df.corr()\n",
    "\n",
    "# 3. 히트맵 그리기\n",
    "plt.figure(figsize=(15, 13))\n",
    "sns.heatmap(corr, annot=True, fmt=\".1f\", cmap='coolwarm', square=True, linewidths=0.5)\n",
    "plt.title('Correlation Heatmap')\n",
    "plt.tight_layout()\n",
    "plt.show()\n"
   ]
  },
  {
   "cell_type": "code",
   "execution_count": null,
   "metadata": {},
   "outputs": [],
   "source": [
    "merged.corr()['TARGET'].abs().sort_values(ascending=False)"
   ]
  },
  {
   "cell_type": "code",
   "execution_count": null,
   "metadata": {},
   "outputs": [],
   "source": [
    "# 1. 상관계수 행렬에서 절댓값 기준으로 0.7 이상 & 자기 자신은 제외\n",
    "high_corr = corr.abs()\n",
    "\n",
    "# 2. 자기 자신 상관계수 제외 (1.0인 대각선 제거)\n",
    "mask = np.triu(np.ones_like(high_corr, dtype=bool))\n",
    "high_corr_filtered = high_corr.mask(mask)\n",
    "\n",
    "# 3. 0.7 이상 필터링\n",
    "high_corr_pairs = high_corr_filtered.stack()\n",
    "high_corr_pairs = high_corr_pairs[high_corr_pairs >= 0.7].sort_values(ascending=False)\n",
    "\n",
    "# 결과 출력\n",
    "print(\"상관계수 절댓값이 0.7 이상인 변수쌍:\")\n",
    "print(high_corr_pairs)\n"
   ]
  },
  {
   "cell_type": "markdown",
   "metadata": {},
   "source": [
    "### 결측률 분석"
   ]
  },
  {
   "cell_type": "code",
   "execution_count": null,
   "metadata": {},
   "outputs": [],
   "source": [
    "df = merged.copy()"
   ]
  },
  {
   "cell_type": "code",
   "execution_count": null,
   "metadata": {},
   "outputs": [],
   "source": [
    "df.isnull().mean().sort_values(ascending=False)"
   ]
  },
  {
   "cell_type": "markdown",
   "metadata": {},
   "source": [
    "### WOE 계산하기 전 전처리 (결측치 처리 & binning)"
   ]
  },
  {
   "cell_type": "code",
   "execution_count": null,
   "metadata": {},
   "outputs": [],
   "source": [
    "df.columns"
   ]
  },
  {
   "cell_type": "code",
   "execution_count": null,
   "metadata": {},
   "outputs": [],
   "source": [
    "# 범주형 변수\n",
    "cat_cols = ['IS_LONG_TERM_LOAN', 'IS_HIGH_INTEREST', 'HAS_HIGH_RISK_DEBT', 'NO_CREDIT_HISTORY_FLAG']\n",
    "\n",
    "# 연속형 변수\n",
    "cont_cols = ['EXT_SOURCE_1', 'EXT_SOURCE_2', 'EXT_SOURCE_3', 'CC_90PLUS', 'AVG_SK_DPD_x', 'AVG_CARD_USAGE_MONTHS', 'AVG_UTIL_RATIO',\n",
    "       'AVG_MIN_PAY_RATIO', 'AVG_REPAY_RATIO', 'CREDIT_CARD_HISTORY_YEARS',\n",
    "       'INST_90PLUS', 'avg_payment_delay', 'pct_underpaid',\n",
    "       'pct_full_payments', 'LOAN_HISTORY_YEARS', 'AVG_SK_DPD_y', 'LOAN_HISTORY_YEARS(prev)',\n",
    "       'NUM_POS_APPLICATIONS', 'NUM_CASH_APPLICATIONS',\n",
    "       'NUM_REVOLVING_APPLICATIONS', 'REFUSAL_RATE', 'IS_OVERDUE_LONG',\n",
    "       'IS_OVERDUE_SHORT', 'IS_LONG_TERM_ACTIVE', 'CREDIT_INCREASED',\n",
    "       'DELTA_CREDIT_SUM_IF_INCREASED', 'DELTA_CREDIT_PCT_IF_INCREASED',\n",
    "       'OVERLAP', 'OVERLAP_YEARS', 'END_STATUS_SCORE',\n",
    "       'bureau_IS_ACTIVE_ESTIMATED', 'bureau_IS_CLOSED_ACTUAL',\n",
    "       'bureau_DAYS_CREDIT_ENDDATE',\n",
    "]"
   ]
  },
  {
   "cell_type": "code",
   "execution_count": null,
   "metadata": {},
   "outputs": [],
   "source": [
    "len(cat_cols + cont_cols)"
   ]
  },
  {
   "cell_type": "code",
   "execution_count": null,
   "metadata": {},
   "outputs": [],
   "source": [
    "def calc_woe(df, feature, target='TARGET', bins=10):\n",
    "    import numpy as np\n",
    "    import pandas as pd\n",
    "\n",
    "    df_tmp = df[[feature, target]].copy()\n",
    "\n",
    "    is_binary = pd.api.types.is_numeric_dtype(df[feature]) and df[feature].nunique(dropna=False) <= 2\n",
    "\n",
    "    if pd.api.types.is_numeric_dtype(df_tmp[feature]):\n",
    "        # 결측은 일단 그대로 두고 구간화 (qcut) 시 결측 제외\n",
    "        df_tmp['bin'] = pd.qcut(df_tmp[feature], bins, duplicates='drop')\n",
    "        \n",
    "        # 'bin'이 categorical 타입이라 'Missing' 범주 추가\n",
    "        if 'Missing' not in df_tmp['bin'].cat.categories:\n",
    "            df_tmp['bin'] = df_tmp['bin'].cat.add_categories('Missing')\n",
    "\n",
    "        # 결측인 행에 'Missing' 할당\n",
    "        df_tmp.loc[df_tmp[feature].isna(), 'bin'] = 'Missing'\n",
    "\n",
    "        group = df_tmp.groupby('bin')[target]\n",
    "\n",
    "    else:\n",
    "        # 범주형 변수인 경우 결측값을 'Missing'으로 대체\n",
    "        df_tmp[feature] = df_tmp[feature].fillna('Missing')\n",
    "        group = df_tmp.groupby(feature)[target]\n",
    "\n",
    "    good = group.sum() + 0.5\n",
    "    bad = group.count() - group.sum() + 0.5\n",
    "    dist_good = good / good.sum()\n",
    "    dist_bad = bad / bad.sum()\n",
    "    woe = np.log(dist_good / dist_bad)\n",
    "    woe_df = pd.DataFrame({'WOE': woe})\n",
    "    return woe_df\n",
    "\n",
    "\n"
   ]
  },
  {
   "cell_type": "code",
   "execution_count": null,
   "metadata": {},
   "outputs": [],
   "source": [
    "woe_results = {}\n",
    "\n",
    "for feature in cont_cols + cat_cols:\n",
    "    woe_df = calc_woe(df, feature, target='TARGET', bins=10)\n",
    "    woe_results[feature] = woe_df\n"
   ]
  },
  {
   "cell_type": "code",
   "execution_count": null,
   "metadata": {},
   "outputs": [],
   "source": [
    "i = 1\n",
    "for feature, woe_df in woe_results.items():\n",
    "    print(f\"=== {i}. {feature} ===\")\n",
    "    i += 1\n",
    "    print(woe_df)\n",
    "    print()\n"
   ]
  },
  {
   "cell_type": "code",
   "execution_count": null,
   "metadata": {},
   "outputs": [],
   "source": [
    "import matplotlib.pyplot as plt\n",
    "\n",
    "def plot_woe(woe_df, title='WOE Plot'):\n",
    "    woe_df = woe_df.reset_index()\n",
    "    plt.figure(figsize=(10, 6))\n",
    "    plt.bar(woe_df.iloc[:, 0].astype(str), woe_df['WOE'], edgecolor='black')\n",
    "    plt.xlabel('Bin')\n",
    "    plt.ylabel('WOE')\n",
    "    plt.title(title)\n",
    "    plt.xticks(rotation=45)\n",
    "    plt.grid(True, linestyle='--', alpha=0.5)\n",
    "    plt.tight_layout()\n",
    "    plt.show()\n",
    "\n",
    "# 사용 예시: EXT_SOURCE_1 변수 시각화\n",
    "plot_woe(woe_results['EXT_SOURCE_1'], title='WOE for EXT_SOURCE_1')\n"
   ]
  },
  {
   "cell_type": "code",
   "execution_count": null,
   "metadata": {},
   "outputs": [],
   "source": [
    "import matplotlib.pyplot as plt\n",
    "\n",
    "def plot_woe(woe_df, title='WOE Plot'):\n",
    "    woe_df = woe_df.reset_index()\n",
    "    plt.figure(figsize=(10, 6))\n",
    "    plt.bar(woe_df.iloc[:, 0].astype(str), woe_df['WOE'], edgecolor='black')\n",
    "    plt.xlabel('Bin')\n",
    "    plt.ylabel('WOE')\n",
    "    plt.title(title)\n",
    "    plt.xticks(rotation=45)\n",
    "    plt.grid(True, linestyle='--', alpha=0.5)\n",
    "    plt.tight_layout()\n",
    "    plt.show()\n",
    "\n",
    "# 사용 예시: EXT_SOURCE_1 변수 시각화\n",
    "plot_woe(woe_results['LOAN_HISTORY_YEARS(prev)'], title='WOE forLOAN_HISTORY_YEARS(prev)')\n"
   ]
  },
  {
   "cell_type": "markdown",
   "metadata": {},
   "source": [
    "### IV 계산"
   ]
  },
  {
   "cell_type": "code",
   "execution_count": null,
   "metadata": {},
   "outputs": [],
   "source": [
    "def calc_iv_from_woe_df(woe_df):\n",
    "    \"\"\"\n",
    "    WOE DataFrame에서 IV 계산.\n",
    "    WOE DF는 반드시 WOE 값만 포함되어야 하며,\n",
    "    그룹별 good/bad 분포 정보가 필요합니다.\n",
    "    \"\"\"\n",
    "    iv_df = woe_df.copy()\n",
    "    iv_df['dist_good'] = np.exp(iv_df['WOE']) / (np.exp(iv_df['WOE']) + 1)\n",
    "    iv_df['dist_bad'] = 1 / (np.exp(iv_df['WOE']) + 1)\n",
    "    iv_df['IV'] = (iv_df['dist_good'] - iv_df['dist_bad']) * iv_df['WOE']\n",
    "    return iv_df['IV'].sum()\n"
   ]
  },
  {
   "cell_type": "code",
   "execution_count": null,
   "metadata": {},
   "outputs": [],
   "source": [
    "iv_results = {}\n",
    "\n",
    "for feature, woe_df in woe_results.items():\n",
    "    iv = calc_iv_from_woe_df(woe_df)\n",
    "    iv_results[feature] = iv\n",
    "\n",
    "# 결과를 Series로 정리 후 내림차순 정렬\n",
    "iv_series = pd.Series(iv_results).sort_values(ascending=False)\n",
    "\n",
    "# 결과 출력\n",
    "pd.set_option('display.max_rows', None)  # 전체 출력\n",
    "print(iv_series)\n"
   ]
  },
  {
   "cell_type": "code",
   "execution_count": null,
   "metadata": {},
   "outputs": [],
   "source": []
  }
 ],
 "metadata": {
  "kernelspec": {
   "display_name": "base",
   "language": "python",
   "name": "python3"
  },
  "language_info": {
   "codemirror_mode": {
    "name": "ipython",
    "version": 3
   },
   "file_extension": ".py",
   "mimetype": "text/x-python",
   "name": "python",
   "nbconvert_exporter": "python",
   "pygments_lexer": "ipython3",
   "version": "3.12.4"
  }
 },
 "nbformat": 4,
 "nbformat_minor": 2
}
