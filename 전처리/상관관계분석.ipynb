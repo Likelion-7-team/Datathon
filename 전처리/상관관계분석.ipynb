{
 "cells": [
  {
   "cell_type": "code",
   "execution_count": 1,
   "id": "d36245be",
   "metadata": {},
   "outputs": [],
   "source": [
    "import pandas as pd\n",
    "import sys\n",
    "import os\n",
    "import numpy as np\n",
    "from sklearn.preprocessing import LabelEncoder\n",
    "from scipy.stats import spearmanr, chi2_contingency, pointbiserialr"
   ]
  },
  {
   "cell_type": "code",
   "execution_count": 2,
   "id": "230c69cb",
   "metadata": {},
   "outputs": [],
   "source": [
    "def cramers_v(x, y):\n",
    "    confusion_matrix = pd.crosstab(x, y)\n",
    "    chi2 = chi2_contingency(confusion_matrix)[0]\n",
    "    n = confusion_matrix.sum().sum()\n",
    "    phi2 = chi2 / n\n",
    "    r, k = confusion_matrix.shape\n",
    "    return np.sqrt(phi2 / min(k-1, r-1))"
   ]
  },
  {
   "cell_type": "code",
   "execution_count": 4,
   "id": "b24c793a",
   "metadata": {},
   "outputs": [],
   "source": [
    "df_trian = pd.read_csv(r\"C:\\Users\\rtc32\\OneDrive\\바탕 화면\\데이톤\\Datasets\\application_train.csv\")\n",
    "df_credit = pd.read_csv(r\"C:\\Users\\rtc32\\OneDrive\\바탕 화면\\데이톤\\Datasets\\credit_card_balance.csv\")\n",
    "df_install = pd.read_csv(r\"C:\\Users\\rtc32\\OneDrive\\바탕 화면\\데이톤\\Datasets\\installments_payments.csv\")"
   ]
  },
  {
   "cell_type": "code",
   "execution_count": 3,
   "id": "d36cacb9",
   "metadata": {},
   "outputs": [],
   "source": [
    "df_breau_blance = pd.read_csv(r\"C:\\Users\\rtc32\\OneDrive\\바탕 화면\\데이톤\\Datasets\\bureau_balance.csv\")\n",
    "df_bureau = pd.read_csv(r\"C:\\Users\\rtc32\\OneDrive\\바탕 화면\\데이톤\\Datasets\\bureau.csv\")\n",
    "df_poscash = pd.read_csv(r\"C:\\Users\\rtc32\\OneDrive\\바탕 화면\\데이톤\\Datasets\\POS_CASH_balance.csv\")\n",
    "df_prev = pd.read_csv(r\"C:\\Users\\rtc32\\OneDrive\\바탕 화면\\데이톤\\Datasets\\previous_application.csv\")"
   ]
  },
  {
   "cell_type": "code",
   "execution_count": 5,
   "id": "3e10009e",
   "metadata": {},
   "outputs": [],
   "source": [
    "df_train = df_trian[['SK_ID_CURR', 'TARGET']]"
   ]
  },
  {
   "cell_type": "code",
   "execution_count": 8,
   "id": "f0e6c542",
   "metadata": {},
   "outputs": [
    {
     "data": {
      "text/plain": [
       "(307511, 2)"
      ]
     },
     "execution_count": 8,
     "metadata": {},
     "output_type": "execute_result"
    }
   ],
   "source": [
    "df_train.shape"
   ]
  },
  {
   "cell_type": "code",
   "execution_count": 9,
   "id": "a4d73119",
   "metadata": {},
   "outputs": [
    {
     "data": {
      "text/plain": [
       "(3840312, 23)"
      ]
     },
     "execution_count": 9,
     "metadata": {},
     "output_type": "execute_result"
    }
   ],
   "source": [
    "df_credit.shape"
   ]
  },
  {
   "cell_type": "code",
   "execution_count": 10,
   "id": "beaf0318",
   "metadata": {},
   "outputs": [],
   "source": [
    "df_credit = df_credit.merge(df_train, on='SK_ID_CURR', how='left')"
   ]
  },
  {
   "cell_type": "code",
   "execution_count": 11,
   "id": "a18823f4",
   "metadata": {},
   "outputs": [
    {
     "data": {
      "text/plain": [
       "(3840312, 24)"
      ]
     },
     "execution_count": 11,
     "metadata": {},
     "output_type": "execute_result"
    }
   ],
   "source": [
    "df_credit.shape"
   ]
  },
  {
   "cell_type": "code",
   "execution_count": 12,
   "id": "11ad17f9",
   "metadata": {},
   "outputs": [
    {
     "data": {
      "text/plain": [
       "(13605401, 8)"
      ]
     },
     "execution_count": 12,
     "metadata": {},
     "output_type": "execute_result"
    }
   ],
   "source": [
    "df_install.shape"
   ]
  },
  {
   "cell_type": "code",
   "execution_count": 14,
   "id": "15402e71",
   "metadata": {},
   "outputs": [],
   "source": [
    "for df in [df_credit, df_install]:\n",
    "    for col in df.columns:\n",
    "        if df[col].dtype == 'int64':\n",
    "            df[col] = df[col].astype('int32')\n",
    "        elif df[col].dtype == 'float64':\n",
    "            df[col] = df[col].astype('float32')"
   ]
  },
  {
   "cell_type": "code",
   "execution_count": 16,
   "id": "971b55e3",
   "metadata": {},
   "outputs": [],
   "source": [
    "df_install = df_install.merge(df_train, on='SK_ID_CURR', how='left')"
   ]
  },
  {
   "cell_type": "code",
   "execution_count": 19,
   "id": "42e418f4",
   "metadata": {},
   "outputs": [],
   "source": [
    "df_credit.dropna(inplace=True)"
   ]
  },
  {
   "cell_type": "code",
   "execution_count": 27,
   "id": "1157fa8d",
   "metadata": {},
   "outputs": [
    {
     "data": {
      "text/plain": [
       "(2556314, 24)"
      ]
     },
     "execution_count": 27,
     "metadata": {},
     "output_type": "execute_result"
    }
   ],
   "source": [
    "df_credit.shape"
   ]
  },
  {
   "cell_type": "code",
   "execution_count": 20,
   "id": "e2afb5c8",
   "metadata": {},
   "outputs": [
    {
     "name": "stdout",
     "output_type": "stream",
     "text": [
      "SK_ID_PREV: pointbiserial corr=0.0032, p-value=3.668e-07\n",
      "MONTHS_BALANCE: pointbiserial corr=0.0458, p-value=0\n",
      "AMT_BALANCE: pointbiserial corr=0.0515, p-value=0\n",
      "AMT_CREDIT_LIMIT_ACTUAL: pointbiserial corr=0.0260, p-value=0\n",
      "AMT_DRAWINGS_ATM_CURRENT: pointbiserial corr=0.0229, p-value=1.003e-292\n",
      "AMT_DRAWINGS_CURRENT: pointbiserial corr=0.0190, p-value=8.518e-203\n",
      "AMT_DRAWINGS_OTHER_CURRENT: pointbiserial corr=0.0017, p-value=0.006298\n",
      "AMT_DRAWINGS_POS_CURRENT: pointbiserial corr=0.0035, p-value=2.274e-08\n",
      "AMT_INST_MIN_REGULARITY: pointbiserial corr=0.0410, p-value=0\n",
      "AMT_PAYMENT_CURRENT: pointbiserial corr=0.0127, p-value=3.149e-92\n",
      "AMT_PAYMENT_TOTAL_CURRENT: pointbiserial corr=0.0120, p-value=1.981e-81\n",
      "AMT_RECEIVABLE_PRINCIPAL: pointbiserial corr=0.0510, p-value=0\n",
      "AMT_RECIVABLE: pointbiserial corr=0.0512, p-value=0\n",
      "AMT_TOTAL_RECEIVABLE: pointbiserial corr=0.0513, p-value=0\n",
      "CNT_DRAWINGS_ATM_CURRENT: pointbiserial corr=0.0369, p-value=0\n",
      "CNT_DRAWINGS_CURRENT: pointbiserial corr=0.0361, p-value=0\n",
      "CNT_DRAWINGS_OTHER_CURRENT: pointbiserial corr=0.0015, p-value=0.01371\n",
      "CNT_DRAWINGS_POS_CURRENT: pointbiserial corr=0.0273, p-value=0\n",
      "CNT_INSTALMENT_MATURE_CUM: pointbiserial corr=-0.0332, p-value=0\n",
      "SK_DPD: pointbiserial corr=0.0014, p-value=0.02977\n",
      "SK_DPD_DEF: pointbiserial corr=0.0155, p-value=3.188e-135\n",
      "NAME_CONTRACT_STATUS: Cramér's V=0.0117\n"
     ]
    }
   ],
   "source": [
    "# 수치형 변수 리스트\n",
    "numeric_cols = df_credit.select_dtypes(include=['int32', 'float32']).columns.drop(['SK_ID_CURR', 'TARGET'])\n",
    "\n",
    "# 범주형 변수 리스트\n",
    "categorical_cols = df_credit.select_dtypes(include=['object']).columns\n",
    "\n",
    "# 수치형 변수와 TARGET의 pointbiserial correlation\n",
    "for col in numeric_cols:\n",
    "    corr, p = pointbiserialr(df_credit['TARGET'], df_credit[col])\n",
    "    print(f\"{col}: pointbiserial corr={corr:.4f}, p-value={p:.4g}\")\n",
    "\n",
    "# 범주형 변수와 TARGET의 Cramér's V\n",
    "for col in categorical_cols:\n",
    "    v = cramers_v(df_credit[col], df_credit['TARGET'])\n",
    "    print(f\"{col}: Cramér's V={v:.4f}\")"
   ]
  },
  {
   "cell_type": "code",
   "execution_count": 22,
   "id": "f74a9e1a",
   "metadata": {},
   "outputs": [],
   "source": [
    "df_install.dropna(inplace=True)"
   ]
  },
  {
   "cell_type": "code",
   "execution_count": 28,
   "id": "69c4eb1c",
   "metadata": {},
   "outputs": [
    {
     "data": {
      "text/plain": [
       "(11589009, 9)"
      ]
     },
     "execution_count": 28,
     "metadata": {},
     "output_type": "execute_result"
    }
   ],
   "source": [
    "df_install.shape"
   ]
  },
  {
   "cell_type": "code",
   "execution_count": 26,
   "id": "085d4b0b",
   "metadata": {},
   "outputs": [
    {
     "name": "stdout",
     "output_type": "stream",
     "text": [
      "SK_ID_PREV: pointbiserial corr=-0.0002, p-value=0.4438\n",
      "NUM_INSTALMENT_VERSION: pointbiserial corr=-0.0101, p-value=1.734e-261\n",
      "NUM_INSTALMENT_NUMBER: pointbiserial corr=-0.0163, p-value=0\n",
      "DAYS_INSTALMENT: pointbiserial corr=0.0348, p-value=0\n",
      "DAYS_ENTRY_PAYMENT: pointbiserial corr=0.0351, p-value=0\n",
      "AMT_INSTALMENT: pointbiserial corr=-0.0015, p-value=2.438e-07\n",
      "AMT_PAYMENT: pointbiserial corr=-0.0036, p-value=5.896e-35\n"
     ]
    }
   ],
   "source": [
    "# 수치형 변수 리스트\n",
    "numeric_cols = df_install.select_dtypes(include=['int32', 'float32', 'int64', 'float64']).columns.drop(['SK_ID_CURR', 'TARGET'])\n",
    "\n",
    "# 범주형 변수 리스트\n",
    "categorical_cols = df_install.select_dtypes(include=['object']).columns\n",
    "\n",
    "# 수치형 변수와 TARGET의 pointbiserial correlation\n",
    "for col in numeric_cols:\n",
    "    corr, p = pointbiserialr(df_install['TARGET'], df_install[col])\n",
    "    print(f\"{col}: pointbiserial corr={corr:.4f}, p-value={p:.4g}\")\n",
    "\n",
    "# 범주형 변수와 TARGET의 Cramér's V\n",
    "for col in categorical_cols:\n",
    "    v = cramers_v(df_install[col], df_install['TARGET'])\n",
    "    print(f\"{col}: Cramér's V={v:.4f}\")"
   ]
  },
  {
   "cell_type": "code",
   "execution_count": 6,
   "id": "00d9a825",
   "metadata": {},
   "outputs": [],
   "source": [
    "def correlation_report(df, df_name='dataframe'):\n",
    "    print(f\"\\n=== {df_name} ===\")\n",
    "    # 수치형 변수 리스트\n",
    "    numeric_cols = df.select_dtypes(include=['int32', 'float32', 'int64', 'float64']).columns.drop(['SK_ID_CURR', 'TARGET'])\n",
    "    # 범주형 변수 리스트\n",
    "    categorical_cols = df.select_dtypes(include=['object']).columns\n",
    "\n",
    "    # 수치형 변수와 TARGET의 pointbiserial correlation\n",
    "    for col in numeric_cols:\n",
    "        corr, p = pointbiserialr(df['TARGET'], df[col])\n",
    "        print(f\"{col}: pointbiserial corr={corr:.4f}, p-value={p:.4g}\")\n",
    "\n",
    "    # 범주형 변수와 TARGET의 Cramér's V\n",
    "    for col in categorical_cols:\n",
    "        v = cramers_v(df[col].fillna('missing'), df['TARGET'])\n",
    "        print(f\"{col}: Cramér's V={v:.4f}\")\n"
   ]
  },
  {
   "cell_type": "code",
   "execution_count": 8,
   "id": "54a977aa",
   "metadata": {},
   "outputs": [],
   "source": [
    "df_trian.dropna(inplace=True)"
   ]
  },
  {
   "cell_type": "code",
   "execution_count": 10,
   "id": "90cf3a29",
   "metadata": {},
   "outputs": [],
   "source": [
    "df_poscash_merged = df_poscash.merge(df_train, on='SK_ID_CURR', how='left')\n",
    "df_prev_merged = df_prev.merge(df_train, on='SK_ID_CURR', how='left')"
   ]
  },
  {
   "cell_type": "code",
   "execution_count": 11,
   "id": "cf4418b0",
   "metadata": {},
   "outputs": [],
   "source": [
    "\n",
    "df_bureau_merged = df_bureau.merge(df_train, on='SK_ID_CURR', how='left')\n",
    "\n"
   ]
  },
  {
   "cell_type": "code",
   "execution_count": 12,
   "id": "985fc3c7",
   "metadata": {},
   "outputs": [],
   "source": [
    "df_poscash_merged.dropna(inplace=True)\n",
    "df_prev_merged.dropna(inplace=True)\n",
    "df_bureau_merged.dropna(inplace=True)\n",
    "df_trian.dropna(inplace=True)"
   ]
  },
  {
   "cell_type": "code",
   "execution_count": 14,
   "id": "46eb9a49",
   "metadata": {},
   "outputs": [
    {
     "name": "stdout",
     "output_type": "stream",
     "text": [
      "\n",
      "=== df_trian ===\n",
      "FLAG_MOBIL (numeric): corr=nan, p-value=nan\n",
      "EXT_SOURCE_3 (numeric): corr=0.1507, p-value=6.961734524966711e-45\n",
      "EXT_SOURCE_2 (numeric): corr=0.1310, p-value=3.1947562843210103e-34\n",
      "EXT_SOURCE_1 (numeric): corr=0.1295, p-value=1.6311798519247395e-33\n",
      "DAYS_EMPLOYED (numeric): corr=0.0630, p-value=5.114511754822699e-09\n",
      "REGION_RATING_CLIENT_W_CITY (numeric): corr=0.0612, p-value=1.3319373983871017e-08\n",
      "REGION_RATING_CLIENT (numeric): corr=0.0536, p-value=6.510807066637697e-07\n",
      "FLOORSMAX_AVG (numeric): corr=0.0461, p-value=1.8838074235306675e-05\n",
      "FLOORSMAX_MODE (numeric): corr=0.0460, p-value=1.9805004302615255e-05\n",
      "DAYS_BIRTH (numeric): corr=0.0411, p-value=0.0001369139681425598\n",
      "AMT_INCOME_TOTAL (numeric): corr=0.0398, p-value=0.00022540909625652864\n",
      "FLOORSMIN_AVG (numeric): corr=0.0329, p-value=0.002272205922911595\n",
      "FLOORSMIN_MODE (numeric): corr=0.0317, p-value=0.003289527498505338\n",
      "LIVINGAPARTMENTS_AVG (numeric): corr=0.0281, p-value=0.009144622944903752\n",
      "APARTMENTS_AVG (numeric): corr=0.0281, p-value=0.009229368858380646\n",
      "OWN_CAR_AGE (numeric): corr=0.0281, p-value=0.009270725163607958\n",
      "YEARS_BUILD_AVG (numeric): corr=0.0269, p-value=0.012522459229036343\n",
      "APARTMENTS_MEDI (numeric): corr=0.0266, p-value=0.013740925546518791\n",
      "ELEVATORS_AVG (numeric): corr=0.0258, p-value=0.016875973889194422\n",
      "LIVINGAREA_AVG (numeric): corr=0.0255, p-value=0.017822595417444433\n",
      "YEARS_BUILD_MODE (numeric): corr=0.0251, p-value=0.01983531496820384\n",
      "DAYS_ID_PUBLISH (numeric): corr=0.0249, p-value=0.02103975149185689\n",
      "LIVINGAPARTMENTS_MODE (numeric): corr=0.0244, p-value=0.023504786249367086\n",
      "LIVINGAREA_MODE (numeric): corr=0.0242, p-value=0.02475792204858597\n",
      "CNT_FAM_MEMBERS (numeric): corr=0.0234, p-value=0.029741573852573533\n",
      "NONLIVINGAREA_AVG (numeric): corr=0.0232, p-value=0.03155540511079384\n",
      "APARTMENTS_MODE (numeric): corr=0.0228, p-value=0.03444415270484572\n",
      "ELEVATORS_MODE (numeric): corr=0.0224, p-value=0.03740275152484249\n",
      "AMT_GOODS_PRICE (numeric): corr=0.0219, p-value=0.04177786654655888\n",
      "REGION_POPULATION_RELATIVE (numeric): corr=0.0212, p-value=0.0490075104247855\n",
      "CNT_CHILDREN (numeric): corr=0.0200, p-value=0.06371516383305825\n",
      "NONLIVINGAREA_MODE (numeric): corr=0.0190, p-value=0.07844839613959009\n",
      "BASEMENTAREA_AVG (numeric): corr=0.0184, p-value=0.08846122341151245\n",
      "BASEMENTAREA_MEDI (numeric): corr=0.0170, p-value=0.11390220140412939\n",
      "FLAG_PHONE (numeric): corr=0.0154, p-value=0.15197810142066426\n",
      "AMT_CREDIT (numeric): corr=0.0146, p-value=0.17475301721429964\n",
      "FLAG_WORK_PHONE (numeric): corr=0.0142, p-value=0.187496453093626\n",
      "COMMONAREA_AVG (numeric): corr=0.0139, p-value=0.19734234742189147\n",
      "DAYS_REGISTRATION (numeric): corr=0.0137, p-value=0.2035727328940109\n",
      "NONLIVINGAPARTMENTS_MODE (numeric): corr=0.0134, p-value=0.21452705798874427\n",
      "HOUR_APPR_PROCESS_START (numeric): corr=0.0130, p-value=0.22732664541195777\n",
      "BASEMENTAREA_MODE (numeric): corr=0.0113, p-value=0.2966027319027972\n",
      "COMMONAREA_MODE (numeric): corr=0.0111, p-value=0.3036067213887522\n",
      "NONLIVINGAPARTMENTS_AVG (numeric): corr=0.0096, p-value=0.37284894421998666\n",
      "YEARS_BEGINEXPLUATATION_AVG (numeric): corr=0.0091, p-value=0.40045906581466023\n",
      "REG_CITY_NOT_WORK_CITY (numeric): corr=0.0082, p-value=0.4447001710993147\n",
      "LANDAREA_AVG (numeric): corr=0.0076, p-value=0.4819958352663036\n",
      "LIVE_REGION_NOT_WORK_REGION (numeric): corr=0.0074, p-value=0.4897068852662607\n",
      "FLAG_EMAIL (numeric): corr=0.0072, p-value=0.5061169174057224\n",
      "ENTRANCES_AVG (numeric): corr=0.0064, p-value=0.5512626115512718\n",
      "LANDAREA_MODE (numeric): corr=0.0059, p-value=0.584981957410543\n",
      "FLAG_CONT_MOBILE (numeric): corr=0.0056, p-value=0.600524507520735\n",
      "ENTRANCES_MODE (numeric): corr=0.0051, p-value=0.6364424054121844\n",
      "REG_REGION_NOT_LIVE_REGION (numeric): corr=0.0051, p-value=0.6382198832066116\n",
      "FLAG_EMP_PHONE (numeric): corr=0.0039, p-value=0.7181668402854721\n",
      "REG_CITY_NOT_LIVE_CITY (numeric): corr=0.0037, p-value=0.7334395681189791\n",
      "LIVE_CITY_NOT_WORK_CITY (numeric): corr=0.0011, p-value=0.9220044532039021\n",
      "AMT_ANNUITY (numeric): corr=0.0008, p-value=0.9434168556513148\n",
      "REG_REGION_NOT_WORK_REGION (numeric): corr=0.0008, p-value=0.9440752534496697\n",
      "YEARS_BEGINEXPLUATATION_MODE (numeric): corr=0.0005, p-value=0.9644637597866117\n",
      "FLAG_DOCUMENT_2 (numeric): corr=nan, p-value=nan\n",
      "FLAG_DOCUMENT_4 (numeric): corr=nan, p-value=nan\n",
      "FLAG_OWN_CAR (categorical): corr=nan, p-value=None\n",
      "ORGANIZATION_TYPE (categorical): corr=0.0890, p-value=None\n",
      "OCCUPATION_TYPE (categorical): corr=0.0724, p-value=None\n",
      "NAME_EDUCATION_TYPE (categorical): corr=0.0583, p-value=None\n",
      "FLAG_DOCUMENT_3 (numeric): corr=0.0543, p-value=4.7469565492242004e-07\n",
      "NAME_HOUSING_TYPE (categorical): corr=0.0463, p-value=None\n",
      "NAME_CONTRACT_TYPE (categorical): corr=0.0452, p-value=None\n",
      "FLOORSMAX_MEDI (numeric): corr=0.0452, p-value=2.7375766561947773e-05\n",
      "NAME_FAMILY_STATUS (categorical): corr=0.0419, p-value=None\n",
      "WALLSMATERIAL_MODE (categorical): corr=0.0345, p-value=None\n",
      "AMT_REQ_CREDIT_BUREAU_YEAR (numeric): corr=0.0338, p-value=0.001699466718523333\n",
      "FLOORSMIN_MEDI (numeric): corr=0.0333, p-value=0.0020009893388599066\n",
      "CODE_GENDER (categorical): corr=0.0326, p-value=None\n",
      "OBS_30_CNT_SOCIAL_CIRCLE (numeric): corr=0.0310, p-value=0.003986663983498236\n",
      "OBS_60_CNT_SOCIAL_CIRCLE (numeric): corr=0.0307, p-value=0.004367145335470492\n",
      "TOTALAREA_MODE (numeric): corr=0.0297, p-value=0.0058504409103919\n",
      "NAME_INCOME_TYPE (categorical): corr=0.0281, p-value=None\n",
      "FLAG_DOCUMENT_13 (numeric): corr=0.0272, p-value=0.011585930710947242\n",
      "LIVINGAPARTMENTS_MEDI (numeric): corr=0.0266, p-value=0.013635795884574147\n",
      "YEARS_BUILD_MEDI (numeric): corr=0.0265, p-value=0.014009680151776649\n",
      "LIVINGAREA_MEDI (numeric): corr=0.0246, p-value=0.0224470415463621\n",
      "ELEVATORS_MEDI (numeric): corr=0.0244, p-value=0.023857213429999365\n",
      "FONDKAPREMONT_MODE (categorical): corr=0.0236, p-value=None\n",
      "DEF_30_CNT_SOCIAL_CIRCLE (numeric): corr=0.0228, p-value=0.03440767560299083\n",
      "NONLIVINGAREA_MEDI (numeric): corr=0.0222, p-value=0.03945562286514078\n",
      "NAME_TYPE_SUITE (categorical): corr=0.0218, p-value=None\n",
      "FLAG_DOCUMENT_5 (numeric): corr=0.0214, p-value=0.046917263039659166\n",
      "HOUSETYPE_MODE (categorical): corr=0.0213, p-value=None\n",
      "FLAG_DOCUMENT_16 (numeric): corr=0.0213, p-value=0.04822110166487407\n",
      "FLAG_DOCUMENT_7 (numeric): corr=0.0212, p-value=0.04908406098140319\n",
      "DEF_60_CNT_SOCIAL_CIRCLE (numeric): corr=0.0208, p-value=0.0537726039910638\n",
      "DAYS_LAST_PHONE_CHANGE (numeric): corr=0.0191, p-value=0.0767809100857831\n",
      "WEEKDAY_APPR_PROCESS_START (categorical): corr=0.0184, p-value=None\n",
      "AMT_REQ_CREDIT_BUREAU_QRT (numeric): corr=0.0165, p-value=0.12677284809316033\n",
      "AMT_REQ_CREDIT_BUREAU_WEEK (numeric): corr=0.0150, p-value=0.1641930110393671\n",
      "AMT_REQ_CREDIT_BUREAU_DAY (numeric): corr=0.0146, p-value=0.17526312567585703\n",
      "FLAG_DOCUMENT_19 (numeric): corr=0.0140, p-value=0.19495172196190236\n",
      "COMMONAREA_MEDI (numeric): corr=0.0138, p-value=0.202105156107933\n",
      "YEARS_BEGINEXPLUATATION_MEDI (numeric): corr=0.0128, p-value=0.2361697443277682\n",
      "FLAG_DOCUMENT_8 (numeric): corr=0.0125, p-value=0.24671185382485425\n",
      "AMT_REQ_CREDIT_BUREAU_HOUR (numeric): corr=0.0122, p-value=0.2596000617313656\n",
      "NONLIVINGAPARTMENTS_MEDI (numeric): corr=0.0112, p-value=0.3010344453203622\n",
      "EMERGENCYSTATE_MODE (categorical): corr=0.0108, p-value=None\n",
      "FLAG_DOCUMENT_6 (numeric): corr=0.0103, p-value=0.3389252399223172\n",
      "FLAG_DOCUMENT_20 (numeric): corr=0.0083, p-value=0.44371953585408597\n",
      "LANDAREA_MEDI (numeric): corr=0.0076, p-value=0.48292746165548106\n",
      "FLAG_DOCUMENT_18 (numeric): corr=0.0061, p-value=0.5691617487858536\n",
      "ENTRANCES_MEDI (numeric): corr=0.0056, p-value=0.6004337331001103\n",
      "FLAG_DOCUMENT_15 (numeric): corr=0.0055, p-value=0.6121224714546903\n",
      "FLAG_DOCUMENT_14 (numeric): corr=0.0043, p-value=0.688028512000661\n",
      "FLAG_DOCUMENT_11 (numeric): corr=0.0042, p-value=0.6954569287801752\n",
      "AMT_REQ_CREDIT_BUREAU_MON (numeric): corr=0.0042, p-value=0.6967505489862779\n",
      "FLAG_DOCUMENT_9 (numeric): corr=0.0040, p-value=0.7140488471819555\n",
      "FLAG_DOCUMENT_17 (numeric): corr=0.0039, p-value=0.7181668402854535\n",
      "FLAG_DOCUMENT_21 (numeric): corr=0.0039, p-value=0.7181668402854721\n",
      "FLAG_OWN_REALTY (categorical): corr=0.0029, p-value=None\n",
      "FLAG_DOCUMENT_10 (numeric): corr=0.0028, p-value=0.7985790707285212\n",
      "FLAG_DOCUMENT_12 (numeric): corr=0.0028, p-value=0.7985790707285212\n",
      "\n",
      "=== df_bureau_merged ===\n"
     ]
    },
    {
     "name": "stderr",
     "output_type": "stream",
     "text": [
      "c:\\ProgramData\\anaconda3\\Lib\\site-packages\\scipy\\stats\\_stats_py.py:5535: ConstantInputWarning: An input array is constant; the correlation coefficient is not defined.\n",
      "  rpb, prob = pearsonr(x, y)\n",
      "C:\\Users\\rtc32\\AppData\\Local\\Temp\\ipykernel_8320\\2924582428.py:7: RuntimeWarning: invalid value encountered in scalar divide\n",
      "  return np.sqrt(phi2 / min(k-1, r-1))\n",
      "c:\\ProgramData\\anaconda3\\Lib\\site-packages\\scipy\\stats\\_stats_py.py:5535: ConstantInputWarning: An input array is constant; the correlation coefficient is not defined.\n",
      "  rpb, prob = pearsonr(x, y)\n"
     ]
    },
    {
     "name": "stdout",
     "output_type": "stream",
     "text": [
      "DAYS_ENDDATE_FACT (numeric): corr=0.0412, p-value=2.0742592431927516e-16\n",
      "DAYS_CREDIT (numeric): corr=0.0384, p-value=2.1113841653292625e-14\n",
      "AMT_CREDIT_SUM_OVERDUE (numeric): corr=nan, p-value=nan\n",
      "CREDIT_TYPE (categorical): corr=0.0312, p-value=None\n",
      "DAYS_CREDIT_UPDATE (numeric): corr=0.0305, p-value=1.2909920306832028e-09\n",
      "AMT_CREDIT_MAX_OVERDUE (numeric): corr=0.0224, p-value=8.404324369420824e-06\n",
      "DAYS_CREDIT_ENDDATE (numeric): corr=0.0191, p-value=0.0001446284973624677\n",
      "CREDIT_ACTIVE (categorical): corr=0.0156, p-value=None\n",
      "AMT_CREDIT_SUM_LIMIT (numeric): corr=0.0071, p-value=0.15727147526009752\n",
      "SK_ID_BUREAU (numeric): corr=0.0056, p-value=0.26848937835255693\n",
      "CREDIT_CURRENCY (categorical): corr=0.0045, p-value=None\n",
      "CNT_CREDIT_PROLONG (numeric): corr=0.0036, p-value=0.4697107707691481\n",
      "AMT_CREDIT_SUM_DEBT (numeric): corr=0.0019, p-value=0.7059638666976843\n",
      "CREDIT_DAY_OVERDUE (numeric): corr=0.0015, p-value=0.7673113693987369\n",
      "AMT_CREDIT_SUM (numeric): corr=0.0013, p-value=0.7979353865289296\n",
      "AMT_ANNUITY (numeric): corr=0.0013, p-value=0.8028137140385792\n",
      "\n",
      "=== df_poscash_merged ===\n",
      "CNT_INSTALMENT_FUTURE (numeric): corr=0.0220, p-value=0.0\n",
      "MONTHS_BALANCE (numeric): corr=0.0200, p-value=0.0\n",
      "CNT_INSTALMENT (numeric): corr=0.0185, p-value=0.0\n",
      "SK_DPD (numeric): corr=0.0099, p-value=9.474956011851584e-184\n",
      "NAME_CONTRACT_STATUS (categorical): corr=0.0092, p-value=None\n",
      "SK_DPD_DEF (numeric): corr=0.0086, p-value=1.6970630819782124e-139\n",
      "SK_ID_PREV (numeric): corr=0.0001, p-value=0.8735220317206639\n",
      "\n",
      "=== df_prev_merged ===\n",
      "HOUR_APPR_PROCESS_START (numeric): corr=0.3127, p-value=0.013339722866992056\n",
      "SK_ID_PREV (numeric): corr=0.1453, p-value=0.2599309544384312\n",
      "AMT_DOWN_PAYMENT (numeric): corr=0.0773, p-value=0.5502123674954633\n",
      "NFLAG_LAST_APPL_IN_DAY (numeric): corr=nan, p-value=nan\n",
      "CNT_PAYMENT (numeric): corr=nan, p-value=nan\n",
      "DAYS_FIRST_DRAWING (numeric): corr=nan, p-value=nan\n",
      "DAYS_FIRST_DUE (numeric): corr=0.5676, p-value=1.4995924447525283e-06\n",
      "RATE_DOWN_PAYMENT (numeric): corr=0.2086, p-value=0.1037201243847285\n",
      "RATE_INTEREST_PRIMARY (numeric): corr=0.1218, p-value=0.3456346327272318\n",
      "NAME_CONTRACT_TYPE (categorical): corr=nan, p-value=None\n",
      "WEEKDAY_APPR_PROCESS_START (categorical): corr=0.2426, p-value=None\n",
      "DAYS_TERMINATION (numeric): corr=0.1055, p-value=0.4143516349957314\n",
      "NFLAG_INSURED_ON_APPROVAL (numeric): corr=0.1055, p-value=0.4145506982156435\n",
      "AMT_APPLICATION (numeric): corr=0.0874, p-value=0.49913912145582795\n",
      "AMT_GOODS_PRICE (numeric): corr=0.0874, p-value=0.49913912145582795\n",
      "AMT_CREDIT (numeric): corr=0.0828, p-value=0.5220576900750897\n",
      "DAYS_DECISION (numeric): corr=0.0825, p-value=0.523919116624608\n",
      "AMT_ANNUITY (numeric): corr=0.0814, p-value=0.529501543739465\n",
      "DAYS_LAST_DUE_1ST_VERSION (numeric): corr=0.0811, p-value=0.5311343479520284\n",
      "SELLERPLACE_AREA (numeric): corr=0.0491, p-value=0.7046606479199693\n",
      "RATE_INTEREST_PRIVILEGED (numeric): corr=0.0213, p-value=0.8694495534872269\n",
      "FLAG_LAST_APPL_PER_CONTRACT (categorical): corr=nan, p-value=None\n",
      "NAME_CASH_LOAN_PURPOSE (categorical): corr=nan, p-value=None\n",
      "NAME_CONTRACT_STATUS (categorical): corr=nan, p-value=None\n",
      "CODE_REJECT_REASON (categorical): corr=nan, p-value=None\n",
      "NAME_GOODS_CATEGORY (categorical): corr=0.4342, p-value=None\n",
      "NAME_PORTFOLIO (categorical): corr=nan, p-value=None\n",
      "NAME_PRODUCT_TYPE (categorical): corr=nan, p-value=None\n",
      "NAME_SELLER_INDUSTRY (categorical): corr=0.3160, p-value=None\n",
      "CHANNEL_TYPE (categorical): corr=0.2046, p-value=None\n",
      "NAME_CLIENT_TYPE (categorical): corr=0.1400, p-value=None\n",
      "NAME_TYPE_SUITE (categorical): corr=0.1240, p-value=None\n",
      "DAYS_LAST_DUE (numeric): corr=0.1205, p-value=0.35088850679974065\n",
      "NAME_PAYMENT_TYPE (categorical): corr=0.0000, p-value=None\n",
      "NAME_YIELD_GROUP (categorical): corr=nan, p-value=None\n",
      "PRODUCT_COMBINATION (categorical): corr=0.1828, p-value=None\n"
     ]
    },
    {
     "name": "stderr",
     "output_type": "stream",
     "text": [
      "c:\\ProgramData\\anaconda3\\Lib\\site-packages\\scipy\\stats\\_stats_py.py:5535: ConstantInputWarning: An input array is constant; the correlation coefficient is not defined.\n",
      "  rpb, prob = pearsonr(x, y)\n",
      "C:\\Users\\rtc32\\AppData\\Local\\Temp\\ipykernel_8320\\2924582428.py:7: RuntimeWarning: invalid value encountered in scalar divide\n",
      "  return np.sqrt(phi2 / min(k-1, r-1))\n",
      "C:\\Users\\rtc32\\AppData\\Local\\Temp\\ipykernel_8320\\2924582428.py:7: RuntimeWarning: invalid value encountered in scalar divide\n",
      "  return np.sqrt(phi2 / min(k-1, r-1))\n",
      "C:\\Users\\rtc32\\AppData\\Local\\Temp\\ipykernel_8320\\2924582428.py:7: RuntimeWarning: invalid value encountered in scalar divide\n",
      "  return np.sqrt(phi2 / min(k-1, r-1))\n",
      "C:\\Users\\rtc32\\AppData\\Local\\Temp\\ipykernel_8320\\2924582428.py:7: RuntimeWarning: invalid value encountered in scalar divide\n",
      "  return np.sqrt(phi2 / min(k-1, r-1))\n",
      "C:\\Users\\rtc32\\AppData\\Local\\Temp\\ipykernel_8320\\2924582428.py:7: RuntimeWarning: invalid value encountered in scalar divide\n",
      "  return np.sqrt(phi2 / min(k-1, r-1))\n",
      "C:\\Users\\rtc32\\AppData\\Local\\Temp\\ipykernel_8320\\2924582428.py:7: RuntimeWarning: invalid value encountered in scalar divide\n",
      "  return np.sqrt(phi2 / min(k-1, r-1))\n",
      "C:\\Users\\rtc32\\AppData\\Local\\Temp\\ipykernel_8320\\2924582428.py:7: RuntimeWarning: invalid value encountered in scalar divide\n",
      "  return np.sqrt(phi2 / min(k-1, r-1))\n",
      "C:\\Users\\rtc32\\AppData\\Local\\Temp\\ipykernel_8320\\2924582428.py:7: RuntimeWarning: invalid value encountered in scalar divide\n",
      "  return np.sqrt(phi2 / min(k-1, r-1))\n"
     ]
    }
   ],
   "source": [
    "merged_dfs = [\n",
    "    df_trian,\n",
    "    df_bureau_merged, \n",
    "    df_poscash_merged, \n",
    "    df_prev_merged\n",
    "]\n",
    "merged_names = [\n",
    "    'df_trian', \n",
    "    'df_bureau_merged',  \n",
    "    'df_poscash_merged', \n",
    "    'df_prev_merged'\n",
    "]\n",
    "\n",
    "for df, name in zip(merged_dfs, merged_names):\n",
    "    print(f\"\\n=== {name} ===\")\n",
    "    numeric_cols = df.select_dtypes(include=['int32', 'float32', 'int64', 'float64']).columns.drop(['SK_ID_CURR', 'TARGET'])\n",
    "    categorical_cols = df.select_dtypes(include=['object']).columns\n",
    "\n",
    "    results = []\n",
    "\n",
    "    for col in numeric_cols:\n",
    "        corr, p = pointbiserialr(df['TARGET'], df[col])\n",
    "        results.append({'variable': col, 'type': 'numeric', 'corr': abs(corr), 'p_value': p})\n",
    "\n",
    "    for col in categorical_cols:\n",
    "        v = cramers_v(df[col].fillna('missing'), df['TARGET'])\n",
    "        results.append({'variable': col, 'type': 'categorical', 'corr': abs(v), 'p_value': None})\n",
    "\n",
    "    # 내림차순 정렬 후 출력\n",
    "    results_sorted = sorted(results, key=lambda x: x['corr'], reverse=True)\n",
    "    for r in results_sorted:\n",
    "        print(f\"{r['variable']} ({r['type']}): corr={r['corr']:.4f}, p-value={r['p_value']}\")"
   ]
  },
  {
   "cell_type": "code",
   "execution_count": 15,
   "id": "c7d14852",
   "metadata": {},
   "outputs": [],
   "source": [
    "df_credit_kpi = pd.read_csv(\"credit_kpi.csv\")\n",
    "df_installment_kpi = pd.read_csv(\"installment_kpi.csv\")"
   ]
  },
  {
   "cell_type": "code",
   "execution_count": 16,
   "id": "de5655c5",
   "metadata": {},
   "outputs": [],
   "source": [
    "df_credit_kpi.dropna(inplace=True)\n",
    "df_installment_kpi.dropna(inplace=True)"
   ]
  },
  {
   "cell_type": "code",
   "execution_count": 17,
   "id": "b8ac0a07",
   "metadata": {},
   "outputs": [
    {
     "name": "stdout",
     "output_type": "stream",
     "text": [
      "\n",
      "=== df_credit_kpi ===\n",
      "AVG_UTIL_RATIO (numeric): corr=0.1262, p-value=8.866363200873621e-101\n",
      "OTHER_RATIO (numeric): corr=nan, p-value=nan\n",
      "STATUS_Active (numeric): corr=0.0911, p-value=3.164485429042871e-53\n",
      "AMT_PAYMENT_CURRENT_max (numeric): corr=0.0790, p-value=2.1176643438301963e-40\n",
      "AMT_BALANCE_min (numeric): corr=0.0722, p-value=5.4876337129834026e-34\n",
      "AMT_TOTAL_RECEIVABLE_min (numeric): corr=0.0716, p-value=1.671209984835706e-33\n",
      "AMT_CREDIT_LIMIT_ACTUAL_max (numeric): corr=0.0671, p-value=1.2664008324531166e-29\n",
      "AMT_PAYMENT_CURRENT_std (numeric): corr=0.0633, p-value=1.670675170007816e-26\n",
      "CNT_DRAWINGS_AVG (numeric): corr=0.0605, p-value=2.1426621838296852e-24\n",
      "AMT_CREDIT_LIMIT_ACTUAL_mean (numeric): corr=0.0593, p-value=1.7659018272310384e-23\n",
      "AMT_BALANCE_mean (numeric): corr=0.0587, p-value=4.850305687980885e-23\n",
      "AMT_TOTAL_RECEIVABLE_mean (numeric): corr=0.0580, p-value=1.651952247384159e-22\n",
      "AMT_DRAWINGS_CURRENT_max (numeric): corr=0.0549, p-value=2.5905302155593493e-20\n",
      "AMT_INST_MIN_REGULARITY_min (numeric): corr=0.0488, p-value=2.1864334616022428e-16\n",
      "AMT_INST_MIN_REGULARITY_mean (numeric): corr=0.0399, p-value=1.8119419378256077e-11\n",
      "AMT_CREDIT_LIMIT_ACTUAL_min (numeric): corr=0.0388, p-value=6.716209192036927e-11\n",
      "AMT_PAYMENT_CURRENT_mean (numeric): corr=0.0368, p-value=6.070796798234475e-10\n",
      "AMT_DRAWINGS_ATM_CURRENT_max (numeric): corr=0.0353, p-value=3.002435194097189e-09\n",
      "AMT_DRAWINGS_CURRENT_std (numeric): corr=0.0310, p-value=1.804966292071215e-07\n",
      "AMT_CREDIT_LIMIT_ACTUAL_std (numeric): corr=0.0307, p-value=2.4072052221846847e-07\n",
      "AMT_INST_MIN_REGULARITY_std (numeric): corr=0.0296, p-value=6.149110640242436e-07\n",
      "AMT_TOTAL_RECEIVABLE_std (numeric): corr=0.0281, p-value=2.323260938138852e-06\n",
      "AMT_BALANCE_std (numeric): corr=0.0277, p-value=3.0550541385950907e-06\n",
      "AMT_PAYMENT_CURRENT_min (numeric): corr=0.0178, p-value=0.002816437739948567\n",
      "AMT_BALANCE_max (numeric): corr=0.0171, p-value=0.004000230624944158\n",
      "AMT_TOTAL_RECEIVABLE_max (numeric): corr=0.0160, p-value=0.007165515176591841\n",
      "AMT_DRAWINGS_ATM_CURRENT_std (numeric): corr=0.0145, p-value=0.01472429110340849\n",
      "AMT_DRAWINGS_CURRENT_mean (numeric): corr=0.0134, p-value=0.02452658604003713\n",
      "AVG_SK_DPD_DEF (numeric): corr=0.0131, p-value=0.02716856431255551\n",
      "CNT_LATE (numeric): corr=0.0115, p-value=0.05217368561413607\n",
      "CNT_DRAWINGS_SUM (numeric): corr=0.0111, p-value=0.06075279290092887\n",
      "AMT_DRAWINGS_ATM_CURRENT_min (numeric): corr=0.0103, p-value=0.08443571121368301\n",
      "AVG_REPAY_RATIO (numeric): corr=0.0092, p-value=0.1207133872322443\n",
      "AMT_DRAWINGS_CURRENT_min (numeric): corr=0.0074, p-value=0.2101889831492457\n",
      "ATM_RATIO (numeric): corr=0.0071, p-value=0.2319777030663097\n",
      "CNT_SERIOUS_LATE (numeric): corr=0.0069, p-value=0.2442317465787864\n",
      "MAX_SK_DPD (numeric): corr=0.0059, p-value=0.32068112166345464\n",
      "AVG_MIN_PAY_RATIO (numeric): corr=0.0049, p-value=0.41247443287610075\n",
      "POS_RATIO (numeric): corr=0.0043, p-value=0.47461325410517113\n",
      "AVG_SK_DPD (numeric): corr=0.0028, p-value=0.6325525764944959\n",
      "AMT_DRAWINGS_ATM_CURRENT_mean (numeric): corr=0.0013, p-value=0.8308854881563188\n",
      "STATUS_Demand (numeric): corr=nan, p-value=nan\n",
      "CNT_ACTIVE_CARDS (numeric): corr=0.0100, p-value=0.09409699724535743\n",
      "STATUS_Completed (numeric): corr=0.0072, p-value=0.2244951094723843\n",
      "STATUS_Signed (numeric): corr=0.0058, p-value=0.32882652580015076\n",
      "AMT_INST_MIN_REGULARITY_max (numeric): corr=0.0028, p-value=0.642678290371449\n",
      "\n",
      "=== df_installment_kpi ===\n",
      "pct_late_payments (numeric): corr=0.0671, p-value=5.332762878829702e-154\n",
      "pct_underpaid (numeric): corr=0.0566, p-value=4.5818242186884447e-110\n",
      "pct_full_payments (numeric): corr=0.0566, p-value=4.5818242186884447e-110\n",
      "pct_late_and_under (numeric): corr=0.0532, p-value=1.8486880858884667e-97\n",
      "pct_early_payments (numeric): corr=0.0437, p-value=3.359210470424626e-66\n",
      "avg_payment_delay (numeric): corr=0.0092, p-value=0.00030659917597580593\n"
     ]
    },
    {
     "name": "stderr",
     "output_type": "stream",
     "text": [
      "c:\\ProgramData\\anaconda3\\Lib\\site-packages\\scipy\\stats\\_stats_py.py:5535: ConstantInputWarning: An input array is constant; the correlation coefficient is not defined.\n",
      "  rpb, prob = pearsonr(x, y)\n"
     ]
    }
   ],
   "source": [
    "merged_dfs = [\n",
    "    df_credit_kpi,\n",
    "    df_installment_kpi\n",
    "]\n",
    "merged_names = [\n",
    "    'df_credit_kpi',\n",
    "    'df_installment_kpi'\n",
    "]\n",
    "\n",
    "for df, name in zip(merged_dfs, merged_names):\n",
    "    print(f\"\\n=== {name} ===\")\n",
    "    numeric_cols = df.select_dtypes(include=['int32', 'float32', 'int64', 'float64']).columns.drop(['SK_ID_CURR', 'TARGET'])\n",
    "    categorical_cols = df.select_dtypes(include=['object']).columns\n",
    "\n",
    "    results = []\n",
    "\n",
    "    for col in numeric_cols:\n",
    "        corr, p = pointbiserialr(df['TARGET'], df[col])\n",
    "        results.append({'variable': col, 'type': 'numeric', 'corr': abs(corr), 'p_value': p})\n",
    "\n",
    "    for col in categorical_cols:\n",
    "        v = cramers_v(df[col].fillna('missing'), df['TARGET'])\n",
    "        results.append({'variable': col, 'type': 'categorical', 'corr': abs(v), 'p_value': None})\n",
    "\n",
    "    # 내림차순 정렬 후 출력\n",
    "    results_sorted = sorted(results, key=lambda x: x['corr'], reverse=True)\n",
    "    for r in results_sorted:\n",
    "        print(f\"{r['variable']} ({r['type']}): corr={r['corr']:.4f}, p-value={r['p_value']}\")"
   ]
  },
  {
   "cell_type": "code",
   "execution_count": null,
   "id": "1db70124",
   "metadata": {},
   "outputs": [],
   "source": []
  }
 ],
 "metadata": {
  "kernelspec": {
   "display_name": "base",
   "language": "python",
   "name": "python3"
  },
  "language_info": {
   "codemirror_mode": {
    "name": "ipython",
    "version": 3
   },
   "file_extension": ".py",
   "mimetype": "text/x-python",
   "name": "python",
   "nbconvert_exporter": "python",
   "pygments_lexer": "ipython3",
   "version": "3.12.7"
  }
 },
 "nbformat": 4,
 "nbformat_minor": 5
}
