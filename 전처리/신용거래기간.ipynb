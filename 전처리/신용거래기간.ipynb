{
 "cells": [
  {
   "cell_type": "code",
   "execution_count": 1,
   "id": "eea4d8a4",
   "metadata": {},
   "outputs": [],
   "source": [
    "import pandas as pd\n",
    "import sys\n",
    "import os\n",
    "import numpy as np"
   ]
  },
  {
   "cell_type": "code",
   "execution_count": 2,
   "id": "15be05d2",
   "metadata": {},
   "outputs": [],
   "source": [
    "df_credit = pd.read_csv(r\"C:\\Users\\rtc32\\OneDrive\\바탕 화면\\데이톤\\Datasets\\credit_card_balance.csv\")"
   ]
  },
  {
   "cell_type": "code",
   "execution_count": 3,
   "id": "8f2bec55",
   "metadata": {},
   "outputs": [],
   "source": [
    "\n",
    "\n",
    "# 고객별 가장 오래된 신용카드 거래 개월 수 (음수)\n",
    "earliest_card_months = df_credit.groupby('SK_ID_CURR')['MONTHS_BALANCE'].min().reset_index()\n",
    "earliest_card_months.columns = ['SK_ID_CURR', 'FIRST_CARD_MONTH']\n",
    "\n",
    "# 현재 기준으로 신용카드 거래기간 (개월 수, 양수로 변환)\n",
    "earliest_card_months['CREDIT_CARD_HISTORY_MONTHS'] = -earliest_card_months['FIRST_CARD_MONTH']\n",
    "earliest_card_months['CREDIT_CARD_HISTORY_YEARS'] = (earliest_card_months['CREDIT_CARD_HISTORY_MONTHS'] / 12).round(1)\n"
   ]
  },
  {
   "cell_type": "code",
   "execution_count": 4,
   "id": "c8119469",
   "metadata": {},
   "outputs": [
    {
     "data": {
      "text/plain": [
       "Index(['SK_ID_CURR', 'FIRST_CARD_MONTH', 'CREDIT_CARD_HISTORY_MONTHS',\n",
       "       'CREDIT_CARD_HISTORY_YEARS'],\n",
       "      dtype='object')"
      ]
     },
     "execution_count": 4,
     "metadata": {},
     "output_type": "execute_result"
    }
   ],
   "source": [
    "earliest_card_months.columns"
   ]
  },
  {
   "cell_type": "code",
   "execution_count": 5,
   "id": "6a3cd94c",
   "metadata": {},
   "outputs": [],
   "source": [
    "df2 = earliest_card_months[['SK_ID_CURR', 'CREDIT_CARD_HISTORY_YEARS']]"
   ]
  },
  {
   "cell_type": "code",
   "execution_count": 6,
   "id": "d85bce9a",
   "metadata": {},
   "outputs": [],
   "source": [
    "df_credit_kpi = pd.read_csv(\"credit_kpi2.csv\")"
   ]
  },
  {
   "cell_type": "code",
   "execution_count": 7,
   "id": "9de58eb5",
   "metadata": {},
   "outputs": [],
   "source": [
    "df_credit_kpi3 = df_credit_kpi.merge(df2, on='SK_ID_CURR', how='left')"
   ]
  },
  {
   "cell_type": "code",
   "execution_count": 9,
   "id": "280dead2",
   "metadata": {},
   "outputs": [],
   "source": [
    "df_BB = pd.read_csv(r\"C:\\Users\\rtc32\\OneDrive\\바탕 화면\\데이톤\\Datasets\\bureau_balance.csv\")\n",
    "df_b = pd.read_csv(r\"C:\\Users\\rtc32\\OneDrive\\바탕 화면\\데이톤\\Datasets\\bureau.csv\")"
   ]
  },
  {
   "cell_type": "code",
   "execution_count": 10,
   "id": "a1b29262",
   "metadata": {},
   "outputs": [],
   "source": [
    "# 1. 각 대출 ID(SK_ID_BUREAU) 기준으로 가장 오래된 기록 찾기\n",
    "bureau_bal_min_months = df_BB.groupby('SK_ID_BUREAU')['MONTHS_BALANCE'].min().reset_index()\n",
    "bureau_bal_min_months.columns = ['SK_ID_BUREAU', 'FIRST_LOAN_MONTH']\n",
    "\n",
    "# 2. bureau 테이블에서 고객 ID와 연결\n",
    "bureau_with_customer = df_b[['SK_ID_BUREAU', 'SK_ID_CURR']]\n",
    "bureau_bal_with_customer = pd.merge(bureau_bal_min_months, bureau_with_customer, on='SK_ID_BUREAU', how='left')\n",
    "\n",
    "# 3. 고객 단위로 가장 오래된 대출 거래 찾기\n",
    "customer_loan_history = bureau_bal_with_customer.groupby('SK_ID_CURR')['FIRST_LOAN_MONTH'].min().reset_index()\n",
    "customer_loan_history['LOAN_HISTORY_MONTHS'] = -customer_loan_history['FIRST_LOAN_MONTH']  # 음수를 양수로\n",
    "customer_loan_history['LOAN_HISTORY_YEARS'] = (customer_loan_history['LOAN_HISTORY_MONTHS'] / 12).round(1)\n"
   ]
  },
  {
   "cell_type": "code",
   "execution_count": null,
   "id": "58b80f54",
   "metadata": {},
   "outputs": [],
   "source": [
    "customer_loan_history"
   ]
  },
  {
   "cell_type": "code",
   "execution_count": 11,
   "id": "6bd8b751",
   "metadata": {},
   "outputs": [],
   "source": [
    "df_credit_all = df_credit.merge(df_credit_kpi3, on='SK_ID_CURR', how='left')"
   ]
  },
  {
   "cell_type": "code",
   "execution_count": 12,
   "id": "c38900ca",
   "metadata": {},
   "outputs": [],
   "source": [
    "df_credit_all.to_csv(\"credit_kpi_final.csv\", index=False)\n",
    "df_credit_kpi3.to_csv(\"credit_kpi3.csv\", index=False)"
   ]
  },
  {
   "cell_type": "code",
   "execution_count": 13,
   "id": "adff50c7",
   "metadata": {},
   "outputs": [
    {
     "data": {
      "application/vnd.microsoft.datawrangler.viewer.v0+json": {
       "columns": [
        {
         "name": "index",
         "rawType": "object",
         "type": "string"
        },
        {
         "name": "SK_ID_CURR",
         "rawType": "float64",
         "type": "float"
        },
        {
         "name": "FIRST_CARD_MONTH",
         "rawType": "float64",
         "type": "float"
        },
        {
         "name": "CREDIT_CARD_HISTORY_MONTHS",
         "rawType": "float64",
         "type": "float"
        },
        {
         "name": "CREDIT_CARD_HISTORY_YEARS",
         "rawType": "float64",
         "type": "float"
        }
       ],
       "ref": "e164927b-56d5-4630-83d4-62500e815566",
       "rows": [
        [
         "count",
         "103558.0",
         "103558.0",
         "103558.0",
         "103558.0"
        ],
        [
         "mean",
         "278381.45795592805",
         "-37.534531373722935",
         "37.534531373722935",
         "3.1286226076208496"
        ],
        [
         "std",
         "102779.51968344788",
         "33.379821481959006",
         "33.379821481959006",
         "2.7809871010915463"
        ],
        [
         "min",
         "100006.0",
         "-96.0",
         "1.0",
         "0.1"
        ],
        [
         "25%",
         "189536.25",
         "-75.0",
         "11.0",
         "0.9"
        ],
        [
         "50%",
         "278649.0",
         "-22.0",
         "22.0",
         "1.8"
        ],
        [
         "75%",
         "367690.0",
         "-11.0",
         "75.0",
         "6.2"
        ],
        [
         "max",
         "456250.0",
         "-1.0",
         "96.0",
         "8.0"
        ]
       ],
       "shape": {
        "columns": 4,
        "rows": 8
       }
      },
      "text/html": [
       "<div>\n",
       "<style scoped>\n",
       "    .dataframe tbody tr th:only-of-type {\n",
       "        vertical-align: middle;\n",
       "    }\n",
       "\n",
       "    .dataframe tbody tr th {\n",
       "        vertical-align: top;\n",
       "    }\n",
       "\n",
       "    .dataframe thead th {\n",
       "        text-align: right;\n",
       "    }\n",
       "</style>\n",
       "<table border=\"1\" class=\"dataframe\">\n",
       "  <thead>\n",
       "    <tr style=\"text-align: right;\">\n",
       "      <th></th>\n",
       "      <th>SK_ID_CURR</th>\n",
       "      <th>FIRST_CARD_MONTH</th>\n",
       "      <th>CREDIT_CARD_HISTORY_MONTHS</th>\n",
       "      <th>CREDIT_CARD_HISTORY_YEARS</th>\n",
       "    </tr>\n",
       "  </thead>\n",
       "  <tbody>\n",
       "    <tr>\n",
       "      <th>count</th>\n",
       "      <td>103558.000000</td>\n",
       "      <td>103558.000000</td>\n",
       "      <td>103558.000000</td>\n",
       "      <td>103558.000000</td>\n",
       "    </tr>\n",
       "    <tr>\n",
       "      <th>mean</th>\n",
       "      <td>278381.457956</td>\n",
       "      <td>-37.534531</td>\n",
       "      <td>37.534531</td>\n",
       "      <td>3.128623</td>\n",
       "    </tr>\n",
       "    <tr>\n",
       "      <th>std</th>\n",
       "      <td>102779.519683</td>\n",
       "      <td>33.379821</td>\n",
       "      <td>33.379821</td>\n",
       "      <td>2.780987</td>\n",
       "    </tr>\n",
       "    <tr>\n",
       "      <th>min</th>\n",
       "      <td>100006.000000</td>\n",
       "      <td>-96.000000</td>\n",
       "      <td>1.000000</td>\n",
       "      <td>0.100000</td>\n",
       "    </tr>\n",
       "    <tr>\n",
       "      <th>25%</th>\n",
       "      <td>189536.250000</td>\n",
       "      <td>-75.000000</td>\n",
       "      <td>11.000000</td>\n",
       "      <td>0.900000</td>\n",
       "    </tr>\n",
       "    <tr>\n",
       "      <th>50%</th>\n",
       "      <td>278649.000000</td>\n",
       "      <td>-22.000000</td>\n",
       "      <td>22.000000</td>\n",
       "      <td>1.800000</td>\n",
       "    </tr>\n",
       "    <tr>\n",
       "      <th>75%</th>\n",
       "      <td>367690.000000</td>\n",
       "      <td>-11.000000</td>\n",
       "      <td>75.000000</td>\n",
       "      <td>6.200000</td>\n",
       "    </tr>\n",
       "    <tr>\n",
       "      <th>max</th>\n",
       "      <td>456250.000000</td>\n",
       "      <td>-1.000000</td>\n",
       "      <td>96.000000</td>\n",
       "      <td>8.000000</td>\n",
       "    </tr>\n",
       "  </tbody>\n",
       "</table>\n",
       "</div>"
      ],
      "text/plain": [
       "          SK_ID_CURR  FIRST_CARD_MONTH  CREDIT_CARD_HISTORY_MONTHS  \\\n",
       "count  103558.000000     103558.000000               103558.000000   \n",
       "mean   278381.457956        -37.534531                   37.534531   \n",
       "std    102779.519683         33.379821                   33.379821   \n",
       "min    100006.000000        -96.000000                    1.000000   \n",
       "25%    189536.250000        -75.000000                   11.000000   \n",
       "50%    278649.000000        -22.000000                   22.000000   \n",
       "75%    367690.000000        -11.000000                   75.000000   \n",
       "max    456250.000000         -1.000000                   96.000000   \n",
       "\n",
       "       CREDIT_CARD_HISTORY_YEARS  \n",
       "count              103558.000000  \n",
       "mean                    3.128623  \n",
       "std                     2.780987  \n",
       "min                     0.100000  \n",
       "25%                     0.900000  \n",
       "50%                     1.800000  \n",
       "75%                     6.200000  \n",
       "max                     8.000000  "
      ]
     },
     "execution_count": 13,
     "metadata": {},
     "output_type": "execute_result"
    }
   ],
   "source": [
    "earliest_card_months.describe()"
   ]
  },
  {
   "cell_type": "code",
   "execution_count": 14,
   "id": "4268a05f",
   "metadata": {},
   "outputs": [],
   "source": [
    "df_app = pd.read_csv(r\"C:\\Users\\rtc32\\OneDrive\\바탕 화면\\데이톤\\Datasets\\application_train.csv\")"
   ]
  },
  {
   "cell_type": "code",
   "execution_count": 15,
   "id": "8c8f8176",
   "metadata": {},
   "outputs": [],
   "source": [
    "df_app = df_app[['SK_ID_CURR', 'TARGET']]"
   ]
  },
  {
   "cell_type": "code",
   "execution_count": 16,
   "id": "3e34368c",
   "metadata": {},
   "outputs": [],
   "source": [
    "df_loan = customer_loan_history.merge(df_app, on='SK_ID_CURR', how='left')"
   ]
  },
  {
   "cell_type": "code",
   "execution_count": 17,
   "id": "7c54b2c7",
   "metadata": {},
   "outputs": [],
   "source": [
    "df_loan.to_csv(\"customer_loan_history.csv\", index=False)"
   ]
  },
  {
   "cell_type": "code",
   "execution_count": null,
   "id": "7f65e873",
   "metadata": {},
   "outputs": [],
   "source": []
  }
 ],
 "metadata": {
  "kernelspec": {
   "display_name": "base",
   "language": "python",
   "name": "python3"
  },
  "language_info": {
   "codemirror_mode": {
    "name": "ipython",
    "version": 3
   },
   "file_extension": ".py",
   "mimetype": "text/x-python",
   "name": "python",
   "nbconvert_exporter": "python",
   "pygments_lexer": "ipython3",
   "version": "3.12.7"
  }
 },
 "nbformat": 4,
 "nbformat_minor": 5
}
