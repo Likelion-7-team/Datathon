{
 "cells": [
  {
   "cell_type": "code",
   "execution_count": 1,
   "id": "6115c61a",
   "metadata": {},
   "outputs": [],
   "source": [
    "import pandas as pd\n",
    "import numpy as np\n",
    "import sys"
   ]
  },
  {
   "cell_type": "code",
   "execution_count": 2,
   "id": "a7752634",
   "metadata": {},
   "outputs": [],
   "source": [
    "df_credit = pd.read_csv(r\"C:\\Users\\rtc32\\OneDrive\\바탕 화면\\데이톤\\Datasets\\credit_card_balance.csv\")\n",
    "df_install = pd.read_csv(r\"C:\\Users\\rtc32\\OneDrive\\바탕 화면\\데이톤\\Datasets\\installments_payments.csv\")"
   ]
  },
  {
   "cell_type": "code",
   "execution_count": 3,
   "id": "59e80faa",
   "metadata": {},
   "outputs": [
    {
     "data": {
      "text/plain": [
       "(3840312, 23)"
      ]
     },
     "execution_count": 3,
     "metadata": {},
     "output_type": "execute_result"
    }
   ],
   "source": [
    "df_credit.shape"
   ]
  },
  {
   "cell_type": "code",
   "execution_count": 7,
   "id": "b7f2cad8",
   "metadata": {},
   "outputs": [
    {
     "name": "stdout",
     "output_type": "stream",
     "text": [
      "SK_ID_PREV 컬럼의 IQR 기준 극단치 행 개수: 0\n",
      "전체 평균: 1904503.59\n",
      "극단치 평균: nan\n",
      "극단치 제외 평균: 1904503.59\n",
      "전체 평균과 극단치 제외 평균 차이: 0.00\n",
      "----------------------------------------\n",
      "SK_ID_CURR 컬럼의 IQR 기준 극단치 행 개수: 0\n",
      "전체 평균: 278324.21\n",
      "극단치 평균: nan\n",
      "극단치 제외 평균: 278324.21\n",
      "전체 평균과 극단치 제외 평균 차이: 0.00\n",
      "----------------------------------------\n",
      "MONTHS_BALANCE 컬럼의 IQR 기준 극단치 행 개수: 0\n",
      "전체 평균: -34.52\n",
      "극단치 평균: nan\n",
      "극단치 제외 평균: -34.52\n",
      "전체 평균과 극단치 제외 평균 차이: 0.00\n",
      "----------------------------------------\n",
      "AMT_BALANCE 컬럼의 IQR 기준 극단치 행 개수: 248146\n",
      "전체 평균: 58300.16\n",
      "극단치 평균: 370578.32\n",
      "극단치 제외 평균: 36728.05\n",
      "전체 평균과 극단치 제외 평균 차이: 21572.10\n",
      "----------------------------------------\n",
      "AMT_CREDIT_LIMIT_ACTUAL 컬럼의 IQR 기준 극단치 행 개수: 404927\n",
      "전체 평균: 153807.96\n",
      "극단치 평균: 546655.42\n",
      "극단치 제외 평균: 107503.24\n",
      "전체 평균과 극단치 제외 평균 차이: 46304.72\n",
      "----------------------------------------\n",
      "AMT_DRAWINGS_ATM_CURRENT 컬럼의 IQR 기준 극단치 행 개수: 424778\n",
      "전체 평균: 5961.32\n",
      "극단치 평균: 43371.95\n",
      "극단치 제외 평균: 0.00\n",
      "전체 평균과 극단치 제외 평균 차이: 5961.32\n",
      "----------------------------------------\n",
      "AMT_DRAWINGS_CURRENT 컬럼의 IQR 기준 극단치 행 개수: 616869\n",
      "전체 평균: 7433.39\n",
      "극단치 평균: 46276.49\n",
      "극단치 제외 평균: 0.00\n",
      "전체 평균과 극단치 제외 평균 차이: 7433.39\n",
      "----------------------------------------\n",
      "AMT_DRAWINGS_OTHER_CURRENT 컬럼의 IQR 기준 극단치 행 개수: 12333\n",
      "전체 평균: 288.17\n",
      "극단치 평균: 72211.70\n",
      "극단치 제외 평균: 0.00\n",
      "전체 평균과 극단치 제외 평균 차이: 288.17\n",
      "----------------------------------------\n",
      "AMT_DRAWINGS_POS_CURRENT 컬럼의 IQR 기준 극단치 행 개수: 264901\n",
      "전체 평균: 2968.80\n",
      "극단치 평균: 34635.88\n",
      "극단치 제외 평균: 0.00\n",
      "전체 평균과 극단치 제외 평균 차이: 2968.80\n",
      "----------------------------------------\n",
      "AMT_INST_MIN_REGULARITY 컬럼의 IQR 기준 극단치 행 개수: 124489\n",
      "전체 평균: 3540.20\n",
      "극단치 평균: 23802.26\n",
      "극단치 제외 평균: 2800.62\n",
      "전체 평균과 극단치 제외 평균 차이: 739.58\n",
      "----------------------------------------\n",
      "AMT_PAYMENT_CURRENT 컬럼의 IQR 기준 극단치 행 개수: 282428\n",
      "전체 평균: 10280.54\n",
      "극단치 평균: 71089.42\n",
      "극단치 제외 평균: 4124.71\n",
      "전체 평균과 극단치 제외 평균 차이: 6155.83\n",
      "----------------------------------------\n",
      "AMT_PAYMENT_TOTAL_CURRENT 컬럼의 IQR 기준 극단치 행 개수: 324742\n",
      "전체 평균: 7588.86\n",
      "극단치 평균: 62124.95\n",
      "극단치 제외 평균: 2551.22\n",
      "전체 평균과 극단치 제외 평균 차이: 5037.64\n",
      "----------------------------------------\n",
      "AMT_RECEIVABLE_PRINCIPAL 컬럼의 IQR 기준 극단치 행 개수: 250529\n",
      "전체 평균: 55965.88\n",
      "극단치 평균: 356200.64\n",
      "극단치 제외 평균: 35012.66\n",
      "전체 평균과 극단치 제외 평균 차이: 20953.22\n",
      "----------------------------------------\n",
      "AMT_RECIVABLE 컬럼의 IQR 기준 극단치 행 개수: 247510\n",
      "전체 평균: 58088.81\n",
      "극단치 평균: 369557.99\n",
      "극단치 제외 평균: 36631.54\n",
      "전체 평균과 극단치 제외 평균 차이: 21457.27\n",
      "----------------------------------------\n",
      "AMT_TOTAL_RECEIVABLE 컬럼의 IQR 기준 극단치 행 개수: 247473\n",
      "전체 평균: 58098.29\n",
      "극단치 평균: 369599.18\n",
      "극단치 제외 평균: 36642.26\n",
      "전체 평균과 극단치 제외 평균 차이: 21456.03\n",
      "----------------------------------------\n",
      "CNT_DRAWINGS_ATM_CURRENT 컬럼의 IQR 기준 극단치 행 개수: 424778\n",
      "전체 평균: 0.31\n",
      "극단치 평균: 2.25\n",
      "극단치 제외 평균: 0.00\n",
      "전체 평균과 극단치 제외 평균 차이: 0.31\n",
      "----------------------------------------\n",
      "CNT_DRAWINGS_CURRENT 컬럼의 IQR 기준 극단치 행 개수: 610360\n",
      "전체 평균: 0.70\n",
      "극단치 평균: 4.42\n",
      "극단치 제외 평균: 0.00\n",
      "전체 평균과 극단치 제외 평균 차이: 0.70\n",
      "----------------------------------------\n",
      "CNT_DRAWINGS_OTHER_CURRENT 컬럼의 IQR 기준 극단치 행 개수: 12808\n",
      "전체 평균: 0.00\n",
      "극단치 평균: 1.16\n",
      "극단치 제외 평균: 0.00\n",
      "전체 평균과 극단치 제외 평균 차이: 0.00\n",
      "----------------------------------------\n",
      "CNT_DRAWINGS_POS_CURRENT 컬럼의 IQR 기준 극단치 행 개수: 264902\n",
      "전체 평균: 0.56\n",
      "극단치 평균: 6.53\n",
      "극단치 제외 평균: 0.00\n",
      "전체 평균과 극단치 제외 평균 차이: 0.56\n",
      "----------------------------------------\n",
      "CNT_INSTALMENT_MATURE_CUM 컬럼의 IQR 기준 극단치 행 개수: 58845\n",
      "전체 평균: 20.83\n",
      "극단치 평균: 83.42\n",
      "극단치 제외 평균: 19.77\n",
      "전체 평균과 극단치 제외 평균 차이: 1.06\n",
      "----------------------------------------\n",
      "SK_DPD 컬럼의 IQR 기준 극단치 행 개수: 153355\n",
      "전체 평균: 9.28\n",
      "극단치 평균: 232.48\n",
      "극단치 제외 평균: 0.00\n",
      "전체 평균과 극단치 제외 평균 차이: 9.28\n",
      "----------------------------------------\n",
      "SK_DPD_DEF 컬럼의 IQR 기준 극단치 행 개수: 89340\n",
      "전체 평균: 0.33\n",
      "극단치 평균: 14.25\n",
      "극단치 제외 평균: 0.00\n",
      "전체 평균과 극단치 제외 평균 차이: 0.33\n",
      "----------------------------------------\n"
     ]
    }
   ],
   "source": [
    "def count_outliers_iqr(df, col):\n",
    "    Q1 = df[col].quantile(0.25)\n",
    "    Q3 = df[col].quantile(0.75)\n",
    "    IQR = Q3 - Q1\n",
    "    lower = Q1 - 1.5 * IQR\n",
    "    upper = Q3 + 1.5 * IQR\n",
    "    outlier_mask = (df[col] < lower) | (df[col] > upper)\n",
    "    outlier_count = outlier_mask.sum()\n",
    "    mean_all = df[col].mean()\n",
    "    mean_outlier = df.loc[outlier_mask, col].mean()\n",
    "    mean_non_outlier = df.loc[~outlier_mask, col].mean()\n",
    "    print(f\"{col} 컬럼의 IQR 기준 극단치 행 개수: {outlier_count}\")\n",
    "    print(f\"전체 평균: {mean_all:.2f}\")\n",
    "    print(f\"극단치 평균: {mean_outlier:.2f}\")\n",
    "    print(f\"극단치 제외 평균: {mean_non_outlier:.2f}\")\n",
    "    print(f\"전체 평균과 극단치 제외 평균 차이: {abs(mean_all - mean_non_outlier):.2f}\")\n",
    "    print(\"-\" * 40)\n",
    "\n",
    "# 모든 수치형 컬럼에 대해 반복\n",
    "for col in df_credit.select_dtypes(include=['int64', 'float64', 'int32', 'float32']).columns:\n",
    "    count_outliers_iqr(df_credit, col)"
   ]
  },
  {
   "cell_type": "code",
   "execution_count": 8,
   "id": "3c82bb49",
   "metadata": {},
   "outputs": [
    {
     "name": "stdout",
     "output_type": "stream",
     "text": [
      "(1855163, 23)\n"
     ]
    }
   ],
   "source": [
    "exclude_cols = ['SK_ID_PREV', 'SK_ID_CURR', 'MONTHS_BALANCE']\n",
    "numeric_cols = [col for col in df_credit.select_dtypes(include=['int64', 'float64', 'int32', 'float32']).columns if col not in exclude_cols]\n",
    "\n",
    "df_credit_clean = df_credit.copy()\n",
    "for col in numeric_cols:\n",
    "    Q1 = df_credit_clean[col].quantile(0.25)\n",
    "    Q3 = df_credit_clean[col].quantile(0.75)\n",
    "    IQR = Q3 - Q1\n",
    "    lower = Q1 - 1.5 * IQR\n",
    "    upper = Q3 + 1.5 * IQR\n",
    "    outlier_mask = (df_credit_clean[col] < lower) | (df_credit_clean[col] > upper)\n",
    "    df_credit_clean = df_credit_clean[~outlier_mask]\n",
    "\n",
    "print(df_credit_clean.shape)"
   ]
  },
  {
   "cell_type": "code",
   "execution_count": 9,
   "id": "5d1814dd",
   "metadata": {},
   "outputs": [
    {
     "name": "stdout",
     "output_type": "stream",
     "text": [
      "(2590425, 23)\n"
     ]
    }
   ],
   "source": [
    "exclude_cols = ['SK_ID_PREV', 'SK_ID_CURR', 'MONTHS_BALANCE']\n",
    "numeric_cols = [col for col in df_credit.select_dtypes(include=['int64', 'float64', 'int32', 'float32']).columns if col not in exclude_cols]\n",
    "\n",
    "df_credit_top1_clean = df_credit.copy()\n",
    "for col in numeric_cols:\n",
    "    upper = df_credit_top1_clean[col].quantile(0.99)\n",
    "    df_credit_top1_clean = df_credit_top1_clean[df_credit_top1_clean[col] <= upper]\n",
    "\n",
    "print(df_credit_top1_clean.shape)"
   ]
  },
  {
   "cell_type": "code",
   "execution_count": 4,
   "id": "6f60b1fe",
   "metadata": {},
   "outputs": [
    {
     "name": "stdout",
     "output_type": "stream",
     "text": [
      "=== IQR(사분위) 방식 ===\n",
      "AMT_BALANCE 전체 평균: 58300.16, 극단치 제외 평균: 36728.05, 차이: 21572.10\n",
      "AMT_CREDIT_LIMIT_ACTUAL 전체 평균: 153807.96, 극단치 제외 평균: 107503.24, 차이: 46304.72\n",
      "AMT_DRAWINGS_ATM_CURRENT 전체 평균: 5961.32, 극단치 제외 평균: 0.00, 차이: 5961.32\n",
      "AMT_DRAWINGS_CURRENT 전체 평균: 7433.39, 극단치 제외 평균: 0.00, 차이: 7433.39\n",
      "AMT_DRAWINGS_OTHER_CURRENT 전체 평균: 288.17, 극단치 제외 평균: 0.00, 차이: 288.17\n",
      "AMT_DRAWINGS_POS_CURRENT 전체 평균: 2968.80, 극단치 제외 평균: 0.00, 차이: 2968.80\n",
      "AMT_INST_MIN_REGULARITY 전체 평균: 3540.20, 극단치 제외 평균: 2800.62, 차이: 739.58\n",
      "AMT_PAYMENT_CURRENT 전체 평균: 10280.54, 극단치 제외 평균: 4124.71, 차이: 6155.83\n",
      "AMT_PAYMENT_TOTAL_CURRENT 전체 평균: 7588.86, 극단치 제외 평균: 2551.22, 차이: 5037.64\n",
      "AMT_RECEIVABLE_PRINCIPAL 전체 평균: 55965.88, 극단치 제외 평균: 35012.66, 차이: 20953.22\n",
      "AMT_RECIVABLE 전체 평균: 58088.81, 극단치 제외 평균: 36631.54, 차이: 21457.27\n",
      "AMT_TOTAL_RECEIVABLE 전체 평균: 58098.29, 극단치 제외 평균: 36642.26, 차이: 21456.03\n",
      "CNT_DRAWINGS_ATM_CURRENT 전체 평균: 0.31, 극단치 제외 평균: 0.00, 차이: 0.31\n",
      "CNT_DRAWINGS_CURRENT 전체 평균: 0.70, 극단치 제외 평균: 0.00, 차이: 0.70\n",
      "CNT_DRAWINGS_OTHER_CURRENT 전체 평균: 0.00, 극단치 제외 평균: 0.00, 차이: 0.00\n",
      "CNT_DRAWINGS_POS_CURRENT 전체 평균: 0.56, 극단치 제외 평균: 0.00, 차이: 0.56\n",
      "CNT_INSTALMENT_MATURE_CUM 전체 평균: 20.83, 극단치 제외 평균: 19.77, 차이: 1.06\n",
      "SK_DPD 전체 평균: 9.28, 극단치 제외 평균: 0.00, 차이: 9.28\n",
      "SK_DPD_DEF 전체 평균: 0.33, 극단치 제외 평균: 0.00, 차이: 0.33\n",
      "\n",
      "=== 상위 1% 제거 방식 ===\n",
      "AMT_BALANCE 전체 평균: 58300.16, 상위 1% 제외 평균: 52605.14, 차이: 5695.01\n",
      "AMT_CREDIT_LIMIT_ACTUAL 전체 평균: 153807.96, 상위 1% 제외 평균: 146546.34, 차이: 7261.62\n",
      "AMT_DRAWINGS_ATM_CURRENT 전체 평균: 5961.32, 상위 1% 제외 평균: 3981.91, 차이: 1979.42\n",
      "AMT_DRAWINGS_CURRENT 전체 평균: 7433.39, 상위 1% 제외 평균: 4912.16, 차이: 2521.23\n",
      "AMT_DRAWINGS_OTHER_CURRENT 전체 평균: 288.17, 상위 1% 제외 평균: 0.00, 차이: 288.17\n",
      "AMT_DRAWINGS_POS_CURRENT 전체 평균: 2968.80, 상위 1% 제외 평균: 1399.66, 차이: 1569.15\n",
      "AMT_INST_MIN_REGULARITY 전체 평균: 3540.20, 상위 1% 제외 평균: 3257.45, 차이: 282.76\n",
      "AMT_PAYMENT_CURRENT 전체 평균: 10280.54, 상위 1% 제외 평균: 7414.97, 차이: 2865.57\n",
      "AMT_PAYMENT_TOTAL_CURRENT 전체 평균: 7588.86, 상위 1% 제외 평균: 5044.62, 차이: 2544.24\n",
      "AMT_RECEIVABLE_PRINCIPAL 전체 평균: 55965.88, 상위 1% 제외 평균: 50466.92, 차이: 5498.95\n",
      "AMT_RECIVABLE 전체 평균: 58088.81, 상위 1% 제외 평균: 52422.42, 차이: 5666.39\n",
      "AMT_TOTAL_RECEIVABLE 전체 평균: 58098.29, 상위 1% 제외 평균: 52431.97, 차이: 5666.31\n",
      "CNT_DRAWINGS_ATM_CURRENT 전체 평균: 0.31, 상위 1% 제외 평균: 0.24, 차이: 0.07\n",
      "CNT_DRAWINGS_CURRENT 전체 평균: 0.70, 상위 1% 제외 평균: 0.46, 차이: 0.25\n",
      "CNT_DRAWINGS_OTHER_CURRENT 전체 평균: 0.00, 상위 1% 제외 평균: 0.00, 차이: 0.00\n",
      "CNT_DRAWINGS_POS_CURRENT 전체 평균: 0.56, 상위 1% 제외 평균: 0.30, 차이: 0.26\n",
      "CNT_INSTALMENT_MATURE_CUM 전체 평균: 20.83, 상위 1% 제외 평균: 20.19, 차이: 0.63\n",
      "SK_DPD 전체 평균: 9.28, 상위 1% 제외 평균: 0.58, 차이: 8.70\n",
      "SK_DPD_DEF 전체 평균: 0.33, 상위 1% 제외 평균: 0.02, 차이: 0.31\n"
     ]
    }
   ],
   "source": [
    "exclude_cols = exclude_cols = ['SK_ID_PREV', 'SK_ID_CURR', 'MONTHS_BALANCE']\n",
    "numeric_cols = [col for col in df_credit.select_dtypes(include=['int64', 'float64', 'int32', 'float32']).columns if col not in exclude_cols]\n",
    "\n",
    "print(\"=== IQR(사분위) 방식 ===\")\n",
    "for col in numeric_cols:\n",
    "    Q1 = df_credit[col].quantile(0.25)\n",
    "    Q3 = df_credit[col].quantile(0.75)\n",
    "    IQR = Q3 - Q1\n",
    "    lower = Q1 - 1.5 * IQR\n",
    "    upper = Q3 + 1.5 * IQR\n",
    "    outlier_mask = (df_credit[col] < lower) | (df_credit[col] > upper)\n",
    "    mean_all = df_credit[col].mean()\n",
    "    mean_non_outlier = df_credit.loc[~outlier_mask, col].mean()\n",
    "    print(f\"{col} 전체 평균: {mean_all:.2f}, 극단치 제외 평균: {mean_non_outlier:.2f}, 차이: {abs(mean_all - mean_non_outlier):.2f}\")\n",
    "\n",
    "print(\"\\n=== 상위 1% 제거 방식 ===\")\n",
    "for col in numeric_cols:\n",
    "    upper = df_credit[col].quantile(0.99)\n",
    "    mean_all = df_credit[col].mean()\n",
    "    mean_top1_removed = df_credit[df_credit[col] <= upper][col].mean()\n",
    "    print(f\"{col} 전체 평균: {mean_all:.2f}, 상위 1% 제외 평균: {mean_top1_removed:.2f}, 차이: {abs(mean_all - mean_top1_removed):.2f}\")"
   ]
  },
  {
   "cell_type": "code",
   "execution_count": null,
   "id": "60bad171",
   "metadata": {},
   "outputs": [],
   "source": []
  },
  {
   "cell_type": "code",
   "execution_count": 5,
   "id": "15aacdd7",
   "metadata": {},
   "outputs": [
    {
     "name": "stdout",
     "output_type": "stream",
     "text": [
      "상위 1%에 해당하는 SK_ID_CURR 개수: 50239\n",
      "[393220, 131079, 131080, 262152, 262156, 131085, 393233, 393238, 262166, 131095]\n"
     ]
    }
   ],
   "source": [
    "exclude_cols = ['SK_ID_PREV', 'SK_ID_CURR', 'MONTHS_BALANCE']\n",
    "numeric_cols = [col for col in df_credit.select_dtypes(include=['int64', 'float64', 'int32', 'float32']).columns if col not in exclude_cols]\n",
    "\n",
    "outlier_ids = set()\n",
    "for col in numeric_cols:\n",
    "    upper = df_credit[col].quantile(0.99)\n",
    "    ids = df_credit.loc[df_credit[col] > upper, 'SK_ID_CURR']\n",
    "    outlier_ids.update(ids.tolist())\n",
    "\n",
    "outlier_ids = list(outlier_ids)\n",
    "print(f\"상위 1%에 해당하는 SK_ID_CURR 개수: {len(outlier_ids)}\")\n",
    "print(outlier_ids[:10])  # 일부만 출력"
   ]
  },
  {
   "cell_type": "code",
   "execution_count": 6,
   "id": "23822337",
   "metadata": {},
   "outputs": [],
   "source": [
    "exclude_cols = ['SK_ID_PREV', 'SK_ID_CURR', 'MONTHS_BALANCE']\n",
    "numeric_cols = [col for col in df_credit.select_dtypes(include=['int64', 'float64', 'int32', 'float32']).columns if col not in exclude_cols]\n",
    "\n",
    "outlier_dict = {}\n",
    "\n",
    "for col in numeric_cols:\n",
    "    upper = df_credit[col].quantile(0.99)\n",
    "    ids = df_credit.loc[df_credit[col] > upper, 'SK_ID_CURR'].unique()\n",
    "    outlier_dict[col] = ids\n",
    "\n",
    "# 데이터프레임으로 변환 (컬럼별로 아이디를 리스트로 저장)\n",
    "outlier_df = pd.DataFrame(dict([(k, pd.Series(v)) for k, v in outlier_dict.items()]))\n",
    "\n",
    "# csv로 저장\n",
    "outlier_df.to_csv(\"credit_outlier_ids_by_column.csv\", index=False)"
   ]
  },
  {
   "cell_type": "code",
   "execution_count": 10,
   "id": "217556b2",
   "metadata": {},
   "outputs": [
    {
     "data": {
      "text/plain": [
       "Index(['SK_ID_PREV', 'SK_ID_CURR', 'NUM_INSTALMENT_VERSION',\n",
       "       'NUM_INSTALMENT_NUMBER', 'DAYS_INSTALMENT', 'DAYS_ENTRY_PAYMENT',\n",
       "       'AMT_INSTALMENT', 'AMT_PAYMENT'],\n",
       "      dtype='object')"
      ]
     },
     "execution_count": 10,
     "metadata": {},
     "output_type": "execute_result"
    }
   ],
   "source": [
    "df_install.columns"
   ]
  },
  {
   "cell_type": "code",
   "execution_count": 11,
   "id": "594c6381",
   "metadata": {},
   "outputs": [
    {
     "data": {
      "application/vnd.microsoft.datawrangler.viewer.v0+json": {
       "columns": [
        {
         "name": "index",
         "rawType": "object",
         "type": "string"
        },
        {
         "name": "0",
         "rawType": "object",
         "type": "unknown"
        }
       ],
       "ref": "87b08992-bbc0-4e88-9e52-26868990c335",
       "rows": [
        [
         "SK_ID_PREV",
         "int64"
        ],
        [
         "SK_ID_CURR",
         "int64"
        ],
        [
         "NUM_INSTALMENT_VERSION",
         "float64"
        ],
        [
         "NUM_INSTALMENT_NUMBER",
         "int64"
        ],
        [
         "DAYS_INSTALMENT",
         "float64"
        ],
        [
         "DAYS_ENTRY_PAYMENT",
         "float64"
        ],
        [
         "AMT_INSTALMENT",
         "float64"
        ],
        [
         "AMT_PAYMENT",
         "float64"
        ]
       ],
       "shape": {
        "columns": 1,
        "rows": 8
       }
      },
      "text/plain": [
       "SK_ID_PREV                  int64\n",
       "SK_ID_CURR                  int64\n",
       "NUM_INSTALMENT_VERSION    float64\n",
       "NUM_INSTALMENT_NUMBER       int64\n",
       "DAYS_INSTALMENT           float64\n",
       "DAYS_ENTRY_PAYMENT        float64\n",
       "AMT_INSTALMENT            float64\n",
       "AMT_PAYMENT               float64\n",
       "dtype: object"
      ]
     },
     "execution_count": 11,
     "metadata": {},
     "output_type": "execute_result"
    }
   ],
   "source": [
    "df_install.dtypes"
   ]
  },
  {
   "cell_type": "code",
   "execution_count": 12,
   "id": "f4f3b820",
   "metadata": {},
   "outputs": [
    {
     "name": "stdout",
     "output_type": "stream",
     "text": [
      "=== IQR(사분위) 방식 ===\n",
      "NUM_INSTALMENT_NUMBER 전체 평균: 18.87, 극단치 제외 평균: 9.54, 차이: 9.33\n",
      "DAYS_INSTALMENT 전체 평균: -1042.27, 극단치 제외 평균: -1042.27, 차이: 0.00\n",
      "DAYS_ENTRY_PAYMENT 전체 평균: -1051.11, 극단치 제외 평균: -1051.11, 차이: 0.00\n",
      "AMT_INSTALMENT 전체 평균: 17050.91, 극단치 제외 평균: 9824.22, 차이: 7226.68\n",
      "AMT_PAYMENT 전체 평균: 17238.22, 극단치 제외 평균: 9211.85, 차이: 8026.37\n",
      "\n",
      "=== 상위 1% 제거 방식 ===\n",
      "NUM_INSTALMENT_NUMBER 전체 평균: 18.87, 상위 1% 제외 평균: 17.62, 차이: 1.25\n",
      "DAYS_INSTALMENT 전체 평균: -1042.27, 상위 1% 제외 평균: -1052.17, 차이: 9.90\n",
      "DAYS_ENTRY_PAYMENT 전체 평균: -1051.11, 상위 1% 제외 평균: -1061.03, 차이: 9.91\n",
      "AMT_INSTALMENT 전체 평균: 17050.91, 상위 1% 제외 평균: 13207.94, 차이: 3842.97\n",
      "AMT_PAYMENT 전체 평균: 17238.22, 상위 1% 제외 평균: 12938.28, 차이: 4299.94\n"
     ]
    }
   ],
   "source": [
    "exclude_cols = ['SK_ID_PREV', 'SK_ID_CURR', 'NUM_INSTALMENT_VERSION']\n",
    "numeric_cols = [col for col in df_install.select_dtypes(include=['int64', 'float64', 'int32', 'float32']).columns if col not in exclude_cols]\n",
    "\n",
    "print(\"=== IQR(사분위) 방식 ===\")\n",
    "for col in numeric_cols:\n",
    "    Q1 = df_install[col].quantile(0.25)\n",
    "    Q3 = df_install[col].quantile(0.75)\n",
    "    IQR = Q3 - Q1\n",
    "    lower = Q1 - 1.5 * IQR\n",
    "    upper = Q3 + 1.5 * IQR\n",
    "    outlier_mask = (df_install[col] < lower) | (df_install[col] > upper)\n",
    "    mean_all = df_install[col].mean()\n",
    "    mean_non_outlier = df_install.loc[~outlier_mask, col].mean()\n",
    "    print(f\"{col} 전체 평균: {mean_all:.2f}, 극단치 제외 평균: {mean_non_outlier:.2f}, 차이: {abs(mean_all - mean_non_outlier):.2f}\")\n",
    "\n",
    "print(\"\\n=== 상위 1% 제거 방식 ===\")\n",
    "for col in numeric_cols:\n",
    "    upper = df_install[col].quantile(0.99)\n",
    "    mean_all = df_install[col].mean()\n",
    "    mean_top1_removed = df_install[df_install[col] <= upper][col].mean()\n",
    "    print(f\"{col} 전체 평균: {mean_all:.2f}, 상위 1% 제외 평균: {mean_top1_removed:.2f}, 차이: {abs(mean_all - mean_top1_removed):.2f}\")"
   ]
  },
  {
   "cell_type": "code",
   "execution_count": 7,
   "id": "3d948253",
   "metadata": {},
   "outputs": [],
   "source": [
    "cols_to_remove = ['AMT_INSTALMENT', 'AMT_PAYMENT']\n",
    "outlier_dict = {}\n",
    "\n",
    "for col in cols_to_remove:\n",
    "    upper = df_install[col].quantile(0.99)\n",
    "    ids = df_install.loc[df_install[col] > upper, 'SK_ID_CURR'].unique()\n",
    "    outlier_dict[col] = ids\n",
    "\n",
    "# 데이터프레임으로 변환 (컬럼별로 아이디를 리스트로 저장)\n",
    "outlier_df = pd.DataFrame(dict([(k, pd.Series(v)) for k, v in outlier_dict.items()]))\n",
    "\n",
    "# csv로 저장\n",
    "outlier_df.to_csv(\"install_outlier_ids_by_column.csv\", index=False)"
   ]
  },
  {
   "cell_type": "code",
   "execution_count": 8,
   "id": "bad3b34b",
   "metadata": {},
   "outputs": [
    {
     "name": "stdout",
     "output_type": "stream",
     "text": [
      "중복 없는 SK_ID_CURR 개수: 79851\n",
      "[262145, 262147, 262150, 262157, 262160, 262162, 262169, 262175, 262176, 262179]\n"
     ]
    }
   ],
   "source": [
    "cols_to_remove = ['AMT_INSTALMENT', 'AMT_PAYMENT']\n",
    "outlier_ids = set()\n",
    "\n",
    "for col in cols_to_remove:\n",
    "    upper = df_install[col].quantile(0.99)\n",
    "    ids = df_install.loc[df_install[col] > upper, 'SK_ID_CURR'].unique()\n",
    "    outlier_ids.update(ids)\n",
    "\n",
    "print(f\"중복 없는 SK_ID_CURR 개수: {len(outlier_ids)}\")\n",
    "print(list(outlier_ids)[:10])  # 일부만 출력"
   ]
  },
  {
   "cell_type": "code",
   "execution_count": 14,
   "id": "d403c8bc",
   "metadata": {},
   "outputs": [
    {
     "data": {
      "text/plain": [
       "(13605401, 8)"
      ]
     },
     "execution_count": 14,
     "metadata": {},
     "output_type": "execute_result"
    }
   ],
   "source": [
    "df_install.shape"
   ]
  },
  {
   "cell_type": "code",
   "execution_count": 15,
   "id": "c87c248c",
   "metadata": {},
   "outputs": [],
   "source": [
    "df_install_top1_clean.to_csv(\"installments_payments_fix.csv\", index=False)\n",
    "df_credit_top1_clean.to_csv(\"credit_card_balance_fix.csv\", index=False)"
   ]
  },
  {
   "cell_type": "code",
   "execution_count": 28,
   "id": "9f496295",
   "metadata": {},
   "outputs": [],
   "source": [
    "import pandas as pd\n",
    "import numpy as np\n",
    "from functools import reduce\n",
    "\n",
    "# Step 0: 복사본 만들고 파생 컬럼 생성\n",
    "ccb = df_credit_top1_clean.copy()\n",
    "ccb = ccb[(ccb['MONTHS_BALANCE'] >= -35) & (ccb['MONTHS_BALANCE'] <= 0)]  # 최근 12개월\n",
    "\n",
    "# 파생 비율 계산\n",
    "ccb['PAYMENT_OVER_MIN'] = ccb['AMT_PAYMENT_CURRENT'] / ccb['AMT_INST_MIN_REGULARITY'].replace(0, np.nan)\n",
    "ccb['REPAY_OVER_BALANCE'] = ccb['AMT_PAYMENT_CURRENT'] / ccb['AMT_BALANCE'].replace(0, np.nan)\n",
    "ccb['UTILIZATION_RATIO'] = ccb['AMT_BALANCE'] / ccb['AMT_CREDIT_LIMIT_ACTUAL'].replace(0, np.nan)\n",
    "\n",
    "ccb['ATM_RATIO'] = ccb['AMT_DRAWINGS_ATM_CURRENT'] / ccb['AMT_DRAWINGS_CURRENT'].replace(0, np.nan)\n",
    "ccb['POS_RATIO'] = ccb['AMT_DRAWINGS_POS_CURRENT'] / ccb['AMT_DRAWINGS_CURRENT'].replace(0, np.nan)\n",
    "ccb['OTHER_RATIO'] = ccb['AMT_DRAWINGS_OTHER_CURRENT'] / ccb['AMT_DRAWINGS_CURRENT'].replace(0, np.nan)\n",
    "\n",
    "# Step 1. KPI 요약\n",
    "df_kpi = ccb.groupby('SK_ID_CURR').agg(\n",
    "    AVG_SK_DPD=('SK_DPD', 'mean'),\n",
    "    MAX_SK_DPD=('SK_DPD', 'max'),\n",
    "    CNT_LATE=('SK_DPD', lambda x: (x > 0).sum()),\n",
    "    CNT_SERIOUS_LATE=('SK_DPD', lambda x: (x >= 30).sum()),\n",
    "    AVG_SK_DPD_DEF=('SK_DPD_DEF', 'mean'),\n",
    "\n",
    "    AVG_MIN_PAY_RATIO=('PAYMENT_OVER_MIN', 'mean'),\n",
    "    AVG_REPAY_RATIO=('REPAY_OVER_BALANCE', 'mean'),\n",
    "    AVG_UTIL_RATIO=('UTILIZATION_RATIO', 'mean'),\n",
    "\n",
    "    ATM_RATIO=('ATM_RATIO', 'mean'),\n",
    "    POS_RATIO=('POS_RATIO', 'mean'),\n",
    "    OTHER_RATIO=('OTHER_RATIO', 'mean'),\n",
    "\n",
    "    CNT_DRAWINGS_SUM=('CNT_DRAWINGS_CURRENT', 'sum'),\n",
    "    CNT_DRAWINGS_AVG=('CNT_DRAWINGS_CURRENT', 'mean')\n",
    ")\n",
    "\n",
    "# Step 2. 수치형 컬럼 전체 요약\n",
    "numeric_cols = [\n",
    "    'AMT_BALANCE', 'AMT_CREDIT_LIMIT_ACTUAL', 'AMT_TOTAL_RECEIVABLE',\n",
    "    'AMT_DRAWINGS_CURRENT', 'AMT_DRAWINGS_ATM_CURRENT',\n",
    "    'AMT_INST_MIN_REGULARITY', 'AMT_PAYMENT_CURRENT',\n",
    "]\n",
    "\n",
    "df_numeric = ccb.groupby('SK_ID_CURR')[numeric_cols].agg(['mean', 'std', 'max', 'min'])\n",
    "df_numeric.columns = ['_'.join(col) for col in df_numeric.columns]\n",
    "df_numeric.reset_index(inplace=True)\n",
    "\n",
    "# Step 3. 계약 상태 요약\n",
    "contract_status = ccb.groupby(['SK_ID_CURR', 'NAME_CONTRACT_STATUS']).size().unstack(fill_value=0)\n",
    "contract_status.columns = [f'STATUS_{col}' for col in contract_status.columns]\n",
    "\n",
    "# Step 4. 활동 중인 카드 수\n",
    "active_cards = df_credit_top1_clean[\n",
    "    df_credit_top1_clean['NAME_CONTRACT_STATUS'] == 'Active'\n",
    "].groupby('SK_ID_CURR')['SK_ID_PREV'].nunique().rename('CNT_ACTIVE_CARDS')\n",
    "\n",
    "# Step 5. 통합\n",
    "df_summary = reduce(lambda left, right: left.join(right, how='outer'),\n",
    "    [df_kpi, df_numeric.set_index('SK_ID_CURR'), contract_status, active_cards])\n",
    "\n",
    "df_summary.reset_index(inplace=True)\n"
   ]
  },
  {
   "cell_type": "code",
   "execution_count": null,
   "id": "c88ffbba",
   "metadata": {},
   "outputs": [],
   "source": [
    "df_summary"
   ]
  },
  {
   "cell_type": "code",
   "execution_count": 29,
   "id": "7f6dfc37",
   "metadata": {},
   "outputs": [
    {
     "data": {
      "text/plain": [
       "Index(['SK_ID_CURR', 'AVG_SK_DPD', 'MAX_SK_DPD', 'CNT_LATE',\n",
       "       'CNT_SERIOUS_LATE', 'AVG_SK_DPD_DEF', 'AVG_MIN_PAY_RATIO',\n",
       "       'AVG_REPAY_RATIO', 'AVG_UTIL_RATIO', 'ATM_RATIO', 'POS_RATIO',\n",
       "       'OTHER_RATIO', 'CNT_DRAWINGS_SUM', 'CNT_DRAWINGS_AVG',\n",
       "       'AMT_BALANCE_mean', 'AMT_BALANCE_std', 'AMT_BALANCE_max',\n",
       "       'AMT_BALANCE_min', 'AMT_CREDIT_LIMIT_ACTUAL_mean',\n",
       "       'AMT_CREDIT_LIMIT_ACTUAL_std', 'AMT_CREDIT_LIMIT_ACTUAL_max',\n",
       "       'AMT_CREDIT_LIMIT_ACTUAL_min', 'AMT_TOTAL_RECEIVABLE_mean',\n",
       "       'AMT_TOTAL_RECEIVABLE_std', 'AMT_TOTAL_RECEIVABLE_max',\n",
       "       'AMT_TOTAL_RECEIVABLE_min', 'AMT_DRAWINGS_CURRENT_mean',\n",
       "       'AMT_DRAWINGS_CURRENT_std', 'AMT_DRAWINGS_CURRENT_max',\n",
       "       'AMT_DRAWINGS_CURRENT_min', 'AMT_DRAWINGS_ATM_CURRENT_mean',\n",
       "       'AMT_DRAWINGS_ATM_CURRENT_std', 'AMT_DRAWINGS_ATM_CURRENT_max',\n",
       "       'AMT_DRAWINGS_ATM_CURRENT_min', 'AMT_INST_MIN_REGULARITY_mean',\n",
       "       'AMT_INST_MIN_REGULARITY_std', 'AMT_INST_MIN_REGULARITY_max',\n",
       "       'AMT_INST_MIN_REGULARITY_min', 'AMT_PAYMENT_CURRENT_mean',\n",
       "       'AMT_PAYMENT_CURRENT_std', 'AMT_PAYMENT_CURRENT_max',\n",
       "       'AMT_PAYMENT_CURRENT_min', 'STATUS_Active', 'STATUS_Completed',\n",
       "       'STATUS_Demand', 'STATUS_Signed', 'CNT_ACTIVE_CARDS'],\n",
       "      dtype='object')"
      ]
     },
     "execution_count": 29,
     "metadata": {},
     "output_type": "execute_result"
    }
   ],
   "source": [
    "df_summary.columns"
   ]
  },
  {
   "cell_type": "code",
   "execution_count": 30,
   "id": "5fe97895",
   "metadata": {},
   "outputs": [
    {
     "data": {
      "text/plain": [
       "(66012, 47)"
      ]
     },
     "execution_count": 30,
     "metadata": {},
     "output_type": "execute_result"
    }
   ],
   "source": [
    "df_summary.shape"
   ]
  },
  {
   "cell_type": "code",
   "execution_count": null,
   "id": "bfc6331a",
   "metadata": {},
   "outputs": [],
   "source": []
  },
  {
   "cell_type": "code",
   "execution_count": 19,
   "id": "e164505f",
   "metadata": {},
   "outputs": [],
   "source": [
    "inst = df_install_top1_clean.copy()\n",
    "\n",
    "# 연체일수 계산\n",
    "inst['PAYMENT_DELAY'] = inst['DAYS_ENTRY_PAYMENT'] - inst['DAYS_INSTALMENT']  # 양수면 연체\n",
    "\n",
    "# 완납 여부: 실제 납부 ≥ 예정 납부\n",
    "inst['IS_FULL_PAYMENT'] = (inst['AMT_PAYMENT'] >= inst['AMT_INSTALMENT']).astype(int)\n",
    "\n",
    "# 지연 여부: 연체일수 > 0\n",
    "inst['IS_LATE'] = (inst['PAYMENT_DELAY'] > 0).astype(int)\n",
    "\n",
    "# 조기 납부 여부\n",
    "inst['IS_EARLY'] = (inst['PAYMENT_DELAY'] < 0).astype(int)\n",
    "\n",
    "# 부족 납부 여부: 실제 납부 < 예정 납부\n",
    "inst['IS_UNDERPAID'] = (inst['AMT_PAYMENT'] < inst['AMT_INSTALMENT']).astype(int)\n",
    "\n",
    "# 이중 리스크: 늦게 내고 덜 낸 경우\n",
    "inst['IS_LATE_AND_UNDER'] = ((inst['IS_LATE'] == 1) & (inst['IS_UNDERPAID'] == 1)).astype(int)\n"
   ]
  },
  {
   "cell_type": "code",
   "execution_count": 20,
   "id": "b3978d42",
   "metadata": {},
   "outputs": [],
   "source": [
    "df_installment_kpi = inst.groupby('SK_ID_CURR').agg(\n",
    "    avg_payment_delay=('PAYMENT_DELAY', lambda x: x[x > 0].mean()),  # 연체일수 평균 (양수만)\n",
    "    pct_late_payments=('IS_LATE', 'mean'),       # 연체 비율\n",
    "    pct_full_payments=('IS_FULL_PAYMENT', 'mean'),  # 완납 비율\n",
    "    pct_early_payments=('IS_EARLY', 'mean'),     # 조기납부 비율\n",
    "    pct_underpaid=('IS_UNDERPAID', 'mean'),      # 부족납부 비율\n",
    "    pct_late_and_under=('IS_LATE_AND_UNDER', 'mean')  # 이중 리스크 비율\n",
    ")\n",
    "\n",
    "df_installment_kpi.reset_index(inplace=True)\n"
   ]
  },
  {
   "cell_type": "code",
   "execution_count": 21,
   "id": "95060f7e",
   "metadata": {},
   "outputs": [
    {
     "data": {
      "text/plain": [
       "(339069, 7)"
      ]
     },
     "execution_count": 21,
     "metadata": {},
     "output_type": "execute_result"
    }
   ],
   "source": [
    "df_installment_kpi.shape"
   ]
  },
  {
   "cell_type": "code",
   "execution_count": 22,
   "id": "d8d0c5c5",
   "metadata": {},
   "outputs": [
    {
     "data": {
      "text/plain": [
       "(13331828, 8)"
      ]
     },
     "execution_count": 22,
     "metadata": {},
     "output_type": "execute_result"
    }
   ],
   "source": [
    "df_install_top1_clean.shape"
   ]
  },
  {
   "cell_type": "code",
   "execution_count": 27,
   "id": "7a614297",
   "metadata": {},
   "outputs": [
    {
     "data": {
      "text/plain": [
       "Index(['SK_ID_CURR', 'avg_payment_delay', 'pct_late_payments',\n",
       "       'pct_full_payments', 'pct_early_payments', 'pct_underpaid',\n",
       "       'pct_late_and_under'],\n",
       "      dtype='object')"
      ]
     },
     "execution_count": 27,
     "metadata": {},
     "output_type": "execute_result"
    }
   ],
   "source": [
    "df_installment_kpi.columns"
   ]
  },
  {
   "cell_type": "code",
   "execution_count": 14,
   "id": "9bc8ddba",
   "metadata": {},
   "outputs": [],
   "source": [
    "df_trian = pd.read_csv(r\"C:\\Users\\rtc32\\OneDrive\\바탕 화면\\데이톤\\Datasets\\application_train.csv\")"
   ]
  },
  {
   "cell_type": "code",
   "execution_count": 15,
   "id": "b9d0cf82",
   "metadata": {},
   "outputs": [],
   "source": [
    "df_train = df_trian[['SK_ID_CURR', 'TARGET']]"
   ]
  },
  {
   "cell_type": "code",
   "execution_count": 16,
   "id": "2caf80ec",
   "metadata": {},
   "outputs": [],
   "source": [
    "df_credit_kpi = df_summary.merge(df_train, on='SK_ID_CURR', how='left')"
   ]
  },
  {
   "cell_type": "code",
   "execution_count": 17,
   "id": "867fa9dc",
   "metadata": {},
   "outputs": [],
   "source": [
    "df_installment_kpi = df_installment_kpi.merge(df_train, on='SK_ID_CURR', how='left')"
   ]
  },
  {
   "cell_type": "code",
   "execution_count": 35,
   "id": "19bd1c80",
   "metadata": {},
   "outputs": [
    {
     "data": {
      "text/plain": [
       "Index(['SK_ID_CURR', 'AVG_SK_DPD', 'MAX_SK_DPD', 'CNT_LATE',\n",
       "       'CNT_SERIOUS_LATE', 'AVG_SK_DPD_DEF', 'AVG_MIN_PAY_RATIO',\n",
       "       'AVG_REPAY_RATIO', 'AVG_UTIL_RATIO', 'ATM_RATIO', 'POS_RATIO',\n",
       "       'OTHER_RATIO', 'CNT_DRAWINGS_SUM', 'CNT_DRAWINGS_AVG',\n",
       "       'AMT_BALANCE_mean', 'AMT_BALANCE_std', 'AMT_BALANCE_max',\n",
       "       'AMT_BALANCE_min', 'AMT_CREDIT_LIMIT_ACTUAL_mean',\n",
       "       'AMT_CREDIT_LIMIT_ACTUAL_std', 'AMT_CREDIT_LIMIT_ACTUAL_max',\n",
       "       'AMT_CREDIT_LIMIT_ACTUAL_min', 'AMT_TOTAL_RECEIVABLE_mean',\n",
       "       'AMT_TOTAL_RECEIVABLE_std', 'AMT_TOTAL_RECEIVABLE_max',\n",
       "       'AMT_TOTAL_RECEIVABLE_min', 'AMT_DRAWINGS_CURRENT_mean',\n",
       "       'AMT_DRAWINGS_CURRENT_std', 'AMT_DRAWINGS_CURRENT_max',\n",
       "       'AMT_DRAWINGS_CURRENT_min', 'AMT_DRAWINGS_ATM_CURRENT_mean',\n",
       "       'AMT_DRAWINGS_ATM_CURRENT_std', 'AMT_DRAWINGS_ATM_CURRENT_max',\n",
       "       'AMT_DRAWINGS_ATM_CURRENT_min', 'AMT_INST_MIN_REGULARITY_mean',\n",
       "       'AMT_INST_MIN_REGULARITY_std', 'AMT_INST_MIN_REGULARITY_max',\n",
       "       'AMT_INST_MIN_REGULARITY_min', 'AMT_PAYMENT_CURRENT_mean',\n",
       "       'AMT_PAYMENT_CURRENT_std', 'AMT_PAYMENT_CURRENT_max',\n",
       "       'AMT_PAYMENT_CURRENT_min', 'STATUS_Active', 'STATUS_Completed',\n",
       "       'STATUS_Demand', 'STATUS_Signed', 'CNT_ACTIVE_CARDS', 'TARGET'],\n",
       "      dtype='object')"
      ]
     },
     "execution_count": 35,
     "metadata": {},
     "output_type": "execute_result"
    }
   ],
   "source": [
    "df_credit_kpi.columns"
   ]
  },
  {
   "cell_type": "code",
   "execution_count": 36,
   "id": "427d393f",
   "metadata": {},
   "outputs": [
    {
     "data": {
      "text/plain": [
       "Index(['SK_ID_CURR', 'avg_payment_delay', 'pct_late_payments',\n",
       "       'pct_full_payments', 'pct_early_payments', 'pct_underpaid',\n",
       "       'pct_late_and_under', 'TARGET'],\n",
       "      dtype='object')"
      ]
     },
     "execution_count": 36,
     "metadata": {},
     "output_type": "execute_result"
    }
   ],
   "source": [
    "df_installment_kpi.columns"
   ]
  },
  {
   "cell_type": "code",
   "execution_count": 37,
   "id": "700e0b44",
   "metadata": {},
   "outputs": [],
   "source": [
    "df_credit_kpi.to_csv(\"credit_kpi.csv\", index=False)\n",
    "df_installment_kpi.to_csv(\"installment_kpi.csv\", index=False)"
   ]
  },
  {
   "cell_type": "code",
   "execution_count": null,
   "id": "700b5741",
   "metadata": {},
   "outputs": [],
   "source": []
  },
  {
   "cell_type": "code",
   "execution_count": 10,
   "id": "13c26c2d",
   "metadata": {},
   "outputs": [],
   "source": [
    "import pandas as pd\n",
    "import numpy as np\n",
    "from functools import reduce\n",
    "\n",
    "# Step 0: 복사본 만들고 파생 컬럼 생성\n",
    "ccb = df_credit.copy()\n",
    "ccb = ccb[(ccb['MONTHS_BALANCE'] >= -35) & (ccb['MONTHS_BALANCE'] <= 0)]  # 최근 12개월\n",
    "\n",
    "# 파생 비율 계산\n",
    "ccb['PAYMENT_OVER_MIN'] = ccb['AMT_PAYMENT_CURRENT'] / ccb['AMT_INST_MIN_REGULARITY'].replace(0, np.nan)\n",
    "ccb['REPAY_OVER_BALANCE'] = ccb['AMT_PAYMENT_CURRENT'] / ccb['AMT_BALANCE'].replace(0, np.nan)\n",
    "ccb['UTILIZATION_RATIO'] = ccb['AMT_BALANCE'] / ccb['AMT_CREDIT_LIMIT_ACTUAL'].replace(0, np.nan)\n",
    "\n",
    "ccb['ATM_RATIO'] = ccb['AMT_DRAWINGS_ATM_CURRENT'] / ccb['AMT_DRAWINGS_CURRENT'].replace(0, np.nan)\n",
    "ccb['POS_RATIO'] = ccb['AMT_DRAWINGS_POS_CURRENT'] / ccb['AMT_DRAWINGS_CURRENT'].replace(0, np.nan)\n",
    "ccb['OTHER_RATIO'] = ccb['AMT_DRAWINGS_OTHER_CURRENT'] / ccb['AMT_DRAWINGS_CURRENT'].replace(0, np.nan)\n",
    "\n",
    "# Step 1. KPI 요약\n",
    "df_kpi = ccb.groupby('SK_ID_CURR').agg(\n",
    "    AVG_SK_DPD=('SK_DPD', 'mean'),\n",
    "    MAX_SK_DPD=('SK_DPD', 'max'),\n",
    "    CNT_LATE=('SK_DPD', lambda x: (x > 0).sum()),\n",
    "    CNT_SERIOUS_LATE=('SK_DPD', lambda x: (x >= 30).sum()),\n",
    "    AVG_SK_DPD_DEF=('SK_DPD_DEF', 'mean'),\n",
    "\n",
    "    AVG_MIN_PAY_RATIO=('PAYMENT_OVER_MIN', 'mean'),\n",
    "    AVG_REPAY_RATIO=('REPAY_OVER_BALANCE', 'mean'),\n",
    "    AVG_UTIL_RATIO=('UTILIZATION_RATIO', 'mean'),\n",
    "\n",
    "    ATM_RATIO=('ATM_RATIO', 'mean'),\n",
    "    POS_RATIO=('POS_RATIO', 'mean'),\n",
    "    OTHER_RATIO=('OTHER_RATIO', 'mean'),\n",
    "\n",
    "    CNT_DRAWINGS_SUM=('CNT_DRAWINGS_CURRENT', 'sum'),\n",
    "    CNT_DRAWINGS_AVG=('CNT_DRAWINGS_CURRENT', 'mean')\n",
    ")\n",
    "\n",
    "# Step 2. 수치형 컬럼 전체 요약\n",
    "numeric_cols = [\n",
    "    'AMT_BALANCE', 'AMT_CREDIT_LIMIT_ACTUAL', 'AMT_TOTAL_RECEIVABLE',\n",
    "    'AMT_DRAWINGS_CURRENT', 'AMT_DRAWINGS_ATM_CURRENT',\n",
    "    'AMT_INST_MIN_REGULARITY', 'AMT_PAYMENT_CURRENT',\n",
    "]\n",
    "\n",
    "df_numeric = ccb.groupby('SK_ID_CURR')[numeric_cols].agg(['mean', 'std', 'max', 'min'])\n",
    "df_numeric.columns = ['_'.join(col) for col in df_numeric.columns]\n",
    "df_numeric.reset_index(inplace=True)\n",
    "\n",
    "# Step 3. 계약 상태 요약\n",
    "contract_status = ccb.groupby(['SK_ID_CURR', 'NAME_CONTRACT_STATUS']).size().unstack(fill_value=0)\n",
    "contract_status.columns = [f'STATUS_{col}' for col in contract_status.columns]\n",
    "\n",
    "# Step 4. 활동 중인 카드 수\n",
    "active_cards = df_credit[\n",
    "    df_credit['NAME_CONTRACT_STATUS'] == 'Active'\n",
    "].groupby('SK_ID_CURR')['SK_ID_PREV'].nunique().rename('CNT_ACTIVE_CARDS')\n",
    "\n",
    "# Step 5. 통합\n",
    "df_summary = reduce(lambda left, right: left.join(right, how='outer'),\n",
    "    [df_kpi, df_numeric.set_index('SK_ID_CURR'), contract_status, active_cards])\n",
    "\n",
    "df_summary.reset_index(inplace=True)\n"
   ]
  },
  {
   "cell_type": "code",
   "execution_count": 11,
   "id": "728e0ec5",
   "metadata": {},
   "outputs": [],
   "source": [
    "inst = df_install.copy()\n",
    "\n",
    "# 연체일수 계산\n",
    "inst['PAYMENT_DELAY'] = inst['DAYS_ENTRY_PAYMENT'] - inst['DAYS_INSTALMENT']  # 양수면 연체\n",
    "\n",
    "# 완납 여부: 실제 납부 ≥ 예정 납부\n",
    "inst['IS_FULL_PAYMENT'] = (inst['AMT_PAYMENT'] >= inst['AMT_INSTALMENT']).astype(int)\n",
    "\n",
    "# 지연 여부: 연체일수 > 0\n",
    "inst['IS_LATE'] = (inst['PAYMENT_DELAY'] > 0).astype(int)\n",
    "\n",
    "# 조기 납부 여부\n",
    "inst['IS_EARLY'] = (inst['PAYMENT_DELAY'] < 0).astype(int)\n",
    "\n",
    "# 부족 납부 여부: 실제 납부 < 예정 납부\n",
    "inst['IS_UNDERPAID'] = (inst['AMT_PAYMENT'] < inst['AMT_INSTALMENT']).astype(int)\n",
    "\n",
    "# 이중 리스크: 늦게 내고 덜 낸 경우\n",
    "inst['IS_LATE_AND_UNDER'] = ((inst['IS_LATE'] == 1) & (inst['IS_UNDERPAID'] == 1)).astype(int)"
   ]
  },
  {
   "cell_type": "code",
   "execution_count": 12,
   "id": "a12df644",
   "metadata": {},
   "outputs": [],
   "source": [
    "df_installment_kpi = inst.groupby('SK_ID_CURR').agg(\n",
    "    avg_payment_delay=('PAYMENT_DELAY', lambda x: x[x > 0].mean()),  # 연체일수 평균 (양수만)\n",
    "    pct_late_payments=('IS_LATE', 'mean'),       # 연체 비율\n",
    "    pct_full_payments=('IS_FULL_PAYMENT', 'mean'),  # 완납 비율\n",
    "    pct_early_payments=('IS_EARLY', 'mean'),     # 조기납부 비율\n",
    "    pct_underpaid=('IS_UNDERPAID', 'mean'),      # 부족납부 비율\n",
    "    pct_late_and_under=('IS_LATE_AND_UNDER', 'mean')  # 이중 리스크 비율\n",
    ")\n",
    "\n",
    "df_installment_kpi.reset_index(inplace=True)\n"
   ]
  },
  {
   "cell_type": "code",
   "execution_count": 18,
   "id": "20477c6d",
   "metadata": {},
   "outputs": [],
   "source": [
    "df_credit_kpi.to_csv(\"credit_kpi_all.csv\", index=False)\n",
    "df_installment_kpi.to_csv(\"installment_kpi_all.csv\", index=False)"
   ]
  },
  {
   "cell_type": "code",
   "execution_count": 4,
   "id": "f8d4b525",
   "metadata": {},
   "outputs": [],
   "source": [
    "df_credit_kpi = pd.read_csv(\"credit_kpi.csv\")"
   ]
  },
  {
   "cell_type": "code",
   "execution_count": 3,
   "id": "aa9fefa1",
   "metadata": {},
   "outputs": [],
   "source": [
    "avg_card_months = df_credit.groupby(['SK_ID_CURR', 'SK_ID_PREV'])['MONTHS_BALANCE'].count().reset_index()\n",
    "avg_by_customer = avg_card_months.groupby('SK_ID_CURR')['MONTHS_BALANCE'].mean().reset_index()\n",
    "avg_by_customer.columns = ['SK_ID_CURR', 'AVG_CARD_USAGE_MONTHS']"
   ]
  },
  {
   "cell_type": "code",
   "execution_count": 5,
   "id": "4d7b448d",
   "metadata": {},
   "outputs": [],
   "source": [
    "df_credit_kpi = df_credit_kpi.merge(avg_by_customer, on='SK_ID_CURR', how='left')"
   ]
  },
  {
   "cell_type": "code",
   "execution_count": null,
   "id": "d983bd07",
   "metadata": {},
   "outputs": [
    {
     "ename": "",
     "evalue": "",
     "output_type": "error",
     "traceback": [
      "\u001b[1;31m현재 셀 또는 이전 셀에서 코드를 실행하는 동안 Kernel이 충돌했습니다. \n",
      "\u001b[1;31m셀의 코드를 검토하여 가능한 오류 원인을 식별하세요. \n",
      "\u001b[1;31m자세한 내용을 보려면 <a href='https://aka.ms/vscodeJupyterKernelCrash'>여기</a>를 클릭하세요. \n",
      "\u001b[1;31m자세한 내용은 Jupyter <a href='command:jupyter.viewOutput'>로그</a>를 참조하세요."
     ]
    }
   ],
   "source": [
    "df_credit_kpi.to_csv(\"credit_kpi2.csv\", index=False)"
   ]
  },
  {
   "cell_type": "code",
   "execution_count": null,
   "id": "efbf6895",
   "metadata": {},
   "outputs": [],
   "source": []
  }
 ],
 "metadata": {
  "kernelspec": {
   "display_name": "base",
   "language": "python",
   "name": "python3"
  },
  "language_info": {
   "codemirror_mode": {
    "name": "ipython",
    "version": 3
   },
   "file_extension": ".py",
   "mimetype": "text/x-python",
   "name": "python",
   "nbconvert_exporter": "python",
   "pygments_lexer": "ipython3",
   "version": "3.12.7"
  }
 },
 "nbformat": 4,
 "nbformat_minor": 5
}
